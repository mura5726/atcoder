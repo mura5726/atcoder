{
 "cells": [
  {
   "cell_type": "code",
   "execution_count": 59,
   "metadata": {},
   "outputs": [
    {
     "name": "stdout",
     "output_type": "stream",
     "text": [
      "1 4\n",
      "1 4 70\n",
      "0\n"
     ]
    }
   ],
   "source": [
    "n,m=map(int,input().split())\n",
    "info=[list(map(int,input().split())) for _ in range(n)]\n",
    "\n",
    "import numpy as np\n",
    "flag = np.zeros(m,dtype=int)\n",
    "\n",
    "for i in range(n):\n",
    "    flag[info[i][0]-1]+=info[i][2]\n",
    "    flag[info[i][1]-1]+=info[i][2]*-1\n",
    "\n",
    "def f1(flag,n):\n",
    "    flag[n+1]=flag[n]+flag[n+1]\n",
    "    return flag\n",
    "\n",
    "for i in range(m-1):\n",
    "    flag=f1(flag,i)\n",
    "\n",
    "print(sum(map(lambda x: x[2], info))-min(flag[flag>0]))"
   ]
  },
  {
   "cell_type": "code",
   "execution_count": 62,
   "metadata": {},
   "outputs": [
    {
     "name": "stdout",
     "output_type": "stream",
     "text": [
      "1 4\n",
      "1 4 70\n",
      "0\n"
     ]
    }
   ],
   "source": [
    "n,m=map(int,input().split())\n",
    "a=[0]*(m+1)\n",
    "t=0\n",
    "for i in range(n):\n",
    "    l,r,s=map(int,input().split())\n",
    "    a[l-1]+=s\n",
    "    a[r]-=s\n",
    "    t+=s\n",
    "a=[(l.append(l[-1]+n),l[-1])[1] for l in [[0]] for n in a[:-1]]\n",
    "print(t-min(a))"
   ]
  },
  {
   "cell_type": "code",
   "execution_count": null,
   "metadata": {
    "collapsed": true
   },
   "outputs": [],
   "source": []
  }
 ],
 "metadata": {
  "kernelspec": {
   "display_name": "Python 3",
   "language": "python",
   "name": "python3"
  },
  "language_info": {
   "codemirror_mode": {
    "name": "ipython",
    "version": 3
   },
   "file_extension": ".py",
   "mimetype": "text/x-python",
   "name": "python",
   "nbconvert_exporter": "python",
   "pygments_lexer": "ipython3",
   "version": "3.6.3"
  }
 },
 "nbformat": 4,
 "nbformat_minor": 2
}
