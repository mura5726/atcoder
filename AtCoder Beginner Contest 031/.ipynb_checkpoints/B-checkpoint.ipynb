{
 "cells": [
  {
   "cell_type": "code",
   "execution_count": 1,
   "metadata": {},
   "outputs": [
    {
     "name": "stdout",
     "output_type": "stream",
     "text": [
      "300 400\n",
      "3\n",
      "240\n",
      "60\n",
      "350\n",
      "0\n",
      "480\n",
      "-1\n"
     ]
    }
   ],
   "source": [
    "L,H=map(int,input().split())\n",
    "N=int(input())\n",
    "for _ in range(N):\n",
    "    A=int(input())\n",
    "    if A >= L and A <= H:\n",
    "        print(0)\n",
    "    elif A > H:\n",
    "        print(-1)\n",
    "    else:\n",
    "        print(L-A)"
   ]
  },
  {
   "cell_type": "code",
   "execution_count": null,
   "metadata": {
    "collapsed": true
   },
   "outputs": [],
   "source": []
  }
 ],
 "metadata": {
  "kernelspec": {
   "display_name": "Python 3",
   "language": "python",
   "name": "python3"
  },
  "language_info": {
   "codemirror_mode": {
    "name": "ipython",
    "version": 3
   },
   "file_extension": ".py",
   "mimetype": "text/x-python",
   "name": "python",
   "nbconvert_exporter": "python",
   "pygments_lexer": "ipython3",
   "version": "3.6.3"
  }
 },
 "nbformat": 4,
 "nbformat_minor": 2
}
