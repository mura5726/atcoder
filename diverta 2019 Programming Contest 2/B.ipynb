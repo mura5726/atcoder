{
 "cells": [
  {
   "cell_type": "code",
   "execution_count": 46,
   "metadata": {},
   "outputs": [
    {
     "name": "stdout",
     "output_type": "stream",
     "text": [
      "4\n",
      "1 1\n",
      "1 2\n",
      "2 1\n",
      "2 2\n",
      "2\n"
     ]
    }
   ],
   "source": [
    "n = int(input())\n",
    "\n",
    "xy = []\n",
    "for _ in range(n):\n",
    "    xy.append(list(map(int,input().split())))\n",
    "\n",
    "diff = []\n",
    "for i in range(n):\n",
    "    for j in range(n):\n",
    "        if i > j:\n",
    "            diff.append(str(xy[i][0] - xy[j][0])+'and'+str(xy[i][1] - xy[j][1]))\n",
    "\n",
    "ans = []\n",
    "for i in set(diff):\n",
    "    ans.append(diff.count(i))\n",
    "    \n",
    "print(n - max(ans))"
   ]
  },
  {
   "cell_type": "code",
   "execution_count": 48,
   "metadata": {},
   "outputs": [
    {
     "data": {
      "text/plain": [
       "['0and1', '1and0', '1and-1', '1and1', '1and0', '0and1']"
      ]
     },
     "execution_count": 48,
     "metadata": {},
     "output_type": "execute_result"
    }
   ],
   "source": [
    "diff"
   ]
  },
  {
   "cell_type": "code",
   "execution_count": 7,
   "metadata": {},
   "outputs": [
    {
     "name": "stdout",
     "output_type": "stream",
     "text": [
      "4\n",
      "1 1\n",
      "1 2\n",
      "2 1\n",
      "2 2\n"
     ]
    }
   ],
   "source": [
    "n = int(input())\n",
    "\n",
    "init_xy = list(map(int,input().split()))\n",
    "\n",
    "diff_x = []\n",
    "diff_y = []\n",
    "for i in range(n-1):\n",
    "    i_xy = list(map(int,input().split()))\n",
    "    diff_x.append(init_xy[0] - i_xy[0])\n",
    "    diff_y.append(init_xy[1] - i_xy[1])"
   ]
  },
  {
   "cell_type": "code",
   "execution_count": 8,
   "metadata": {},
   "outputs": [
    {
     "data": {
      "text/plain": [
       "[0, -1, -1]"
      ]
     },
     "execution_count": 8,
     "metadata": {},
     "output_type": "execute_result"
    }
   ],
   "source": [
    "diff_x"
   ]
  },
  {
   "cell_type": "code",
   "execution_count": 9,
   "metadata": {},
   "outputs": [
    {
     "data": {
      "text/plain": [
       "[-1, 0, -1]"
      ]
     },
     "execution_count": 9,
     "metadata": {},
     "output_type": "execute_result"
    }
   ],
   "source": [
    "diff_y"
   ]
  },
  {
   "cell_type": "code",
   "execution_count": 152,
   "metadata": {},
   "outputs": [
    {
     "name": "stdout",
     "output_type": "stream",
     "text": [
      "5\n",
      "1 1\n",
      "2 1\n",
      "4 1\n",
      "8 1\n",
      "9 1\n",
      "3\n"
     ]
    }
   ],
   "source": [
    "import numpy as np\n",
    "from operator import itemgetter\n",
    "\n",
    "n = int(input())\n",
    "if n == 1:\n",
    "    print(1)\n",
    "else:\n",
    "    xy = []\n",
    "    for i in range(n):\n",
    "        xy_i = list(map(int, input().split()))\n",
    "        xy.append(xy_i)\n",
    "\n",
    "    st_xy1 = sorted(xy, key=itemgetter(0))\n",
    "    st_xy = sorted(st_xy1, key=itemgetter(1))\n",
    "\n",
    "    s = np.array(st_xy)\n",
    "\n",
    "    L = list(map(list,np.diff(s.transpose()).transpose()))\n",
    "\n",
    "    ans = []\n",
    "    for LL in list(map(list, set(map(tuple, L)))):\n",
    "        if LL[0] !=0 or LL[1] !=0:\n",
    "            ans.append(L.count(LL))\n",
    "    if len(ans) != 0:\n",
    "        print(n - max(ans))\n",
    "    else:\n",
    "        print(n)"
   ]
  },
  {
   "cell_type": "code",
   "execution_count": 149,
   "metadata": {},
   "outputs": [
    {
     "data": {
      "text/plain": [
       "array([[1, 1],\n",
       "       [2, 1],\n",
       "       [1, 2],\n",
       "       [2, 2]])"
      ]
     },
     "execution_count": 149,
     "metadata": {},
     "output_type": "execute_result"
    }
   ],
   "source": [
    "s"
   ]
  },
  {
   "cell_type": "code",
   "execution_count": 100,
   "metadata": {},
   "outputs": [
    {
     "name": "stdout",
     "output_type": "stream",
     "text": [
      "[[False  True]\n",
      " [False  True]]\n",
      "[[ True False]\n",
      " [ True False]]\n"
     ]
    }
   ],
   "source": [
    "for u in np.unique(np.diff(s.transpose()).transpose())\n",
    "    \n",
    "    print(l == u)"
   ]
  },
  {
   "cell_type": "code",
   "execution_count": 109,
   "metadata": {},
   "outputs": [
    {
     "data": {
      "text/plain": [
       "[[3, 2], [3, 2]]"
      ]
     },
     "execution_count": 109,
     "metadata": {},
     "output_type": "execute_result"
    }
   ],
   "source": [
    "list(map(list,l))"
   ]
  },
  {
   "cell_type": "code",
   "execution_count": 121,
   "metadata": {},
   "outputs": [
    {
     "data": {
      "text/plain": [
       "[[3, 2], [3, 2]]"
      ]
     },
     "execution_count": 121,
     "metadata": {},
     "output_type": "execute_result"
    }
   ],
   "source": [
    "list(map(list,np.diff(s.transpose()).transpose()))\n"
   ]
  },
  {
   "cell_type": "code",
   "execution_count": null,
   "metadata": {
    "collapsed": true
   },
   "outputs": [],
   "source": [
    "import itertools\n",
    "from collections import Counter"
   ]
  },
  {
   "cell_type": "code",
   "execution_count": 154,
   "metadata": {},
   "outputs": [
    {
     "name": "stdout",
     "output_type": "stream",
     "text": [
      "3\n",
      "1 4\n",
      "4 6\n",
      "7 8\n"
     ]
    }
   ],
   "source": [
    "N = int(input())\n",
    "XY = [[int(x) for x in input().split()] for _ in range(N)]"
   ]
  },
  {
   "cell_type": "code",
   "execution_count": 155,
   "metadata": {},
   "outputs": [
    {
     "name": "stdout",
     "output_type": "stream",
     "text": [
      "1\n"
     ]
    }
   ],
   "source": [
    "vectors = []\n",
    "\n",
    "for xy1,xy2 in itertools.combinations(XY,2):\n",
    "    p = xy2[0] - xy1[0]\n",
    "    q = xy2[1] - xy1[1]\n",
    "    vectors.append((p,q))\n",
    "    vectors.append((-p,-q))\n",
    "c = Counter(vectors)\n",
    " \n",
    "if N >= 2:\n",
    "    x = max(c.values())\n",
    "    answer = N - x\n",
    "else:\n",
    "    answer = 1\n",
    "print(answer)"
   ]
  },
  {
   "cell_type": "code",
   "execution_count": 157,
   "metadata": {},
   "outputs": [
    {
     "data": {
      "text/plain": [
       "[([1, 4], [4, 6]), ([1, 4], [7, 8]), ([4, 6], [7, 8])]"
      ]
     },
     "execution_count": 157,
     "metadata": {},
     "output_type": "execute_result"
    }
   ],
   "source": [
    "list(itertools.combinations(XY,2))"
   ]
  },
  {
   "cell_type": "code",
   "execution_count": 160,
   "metadata": {},
   "outputs": [
    {
     "data": {
      "text/plain": [
       "Counter({(-6, -4): 1, (-3, -2): 2, (3, 2): 2, (6, 4): 1})"
      ]
     },
     "execution_count": 160,
     "metadata": {},
     "output_type": "execute_result"
    }
   ],
   "source": [
    "Counter(vectors)"
   ]
  },
  {
   "cell_type": "code",
   "execution_count": 162,
   "metadata": {},
   "outputs": [
    {
     "data": {
      "text/plain": [
       "2"
      ]
     },
     "execution_count": 162,
     "metadata": {},
     "output_type": "execute_result"
    }
   ],
   "source": [
    "max(c.values())"
   ]
  },
  {
   "cell_type": "code",
   "execution_count": null,
   "metadata": {
    "collapsed": true
   },
   "outputs": [],
   "source": []
  }
 ],
 "metadata": {
  "kernelspec": {
   "display_name": "Python 3",
   "language": "python",
   "name": "python3"
  },
  "language_info": {
   "codemirror_mode": {
    "name": "ipython",
    "version": 3
   },
   "file_extension": ".py",
   "mimetype": "text/x-python",
   "name": "python",
   "nbconvert_exporter": "python",
   "pygments_lexer": "ipython3",
   "version": "3.6.3"
  }
 },
 "nbformat": 4,
 "nbformat_minor": 2
}
