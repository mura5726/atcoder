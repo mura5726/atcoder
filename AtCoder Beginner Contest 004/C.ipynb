{
 "cells": [
  {
   "cell_type": "code",
   "execution_count": null,
   "metadata": {},
   "outputs": [],
   "source": [
    "k=int(input())\n",
    "ans=['123456']\n",
    "ini='123456'\n",
    "for j in range(6):\n",
    "    for i in range(2,7):\n",
    "        ans.append(ini[1:i]+ini[0]+ini[i:6])\n",
    "    ini=ini[1:6]+ini[0]+ini[6:6]\n",
    "print(ans[k%30])"
   ]
  },
  {
   "cell_type": "code",
   "execution_count": null,
   "metadata": {
    "collapsed": true
   },
   "outputs": [],
   "source": []
  }
 ],
 "metadata": {
  "kernelspec": {
   "display_name": "Python 3",
   "language": "python",
   "name": "python3"
  },
  "language_info": {
   "codemirror_mode": {
    "name": "ipython",
    "version": 3
   },
   "file_extension": ".py",
   "mimetype": "text/x-python",
   "name": "python",
   "nbconvert_exporter": "python",
   "pygments_lexer": "ipython3",
   "version": "3.6.3"
  }
 },
 "nbformat": 4,
 "nbformat_minor": 2
}
