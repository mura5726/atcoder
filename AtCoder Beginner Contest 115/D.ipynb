{
 "cells": [
  {
   "cell_type": "code",
   "execution_count": 34,
   "metadata": {
    "scrolled": true
   },
   "outputs": [
    {
     "name": "stdout",
     "output_type": "stream",
     "text": [
      "50 4321098765432109\n"
     ]
    }
   ],
   "source": [
    "N, X = map(int, input().split())\n",
    "\n",
    "a, p = [1], [1]\n",
    "for i in range(N):\n",
    "    a.append(a[i] * 2 + 3)\n",
    "    p.append(p[i] * 2 + 1)\n",
    "\n",
    "def f(N, X): # X <= 0 や X > a_N を許容し解説本文から簡略化\n",
    "    if N == 0:\n",
    "        return 0 if X <= 0 else 1\n",
    "    elif X <= 1 + a[N-1]:\n",
    "        return f(N-1, X-1)\n",
    "    else:\n",
    "        return p[N-1] + 1 + f(N-1, X-2-a[N-1])\n",
    "print(f(N, X))\n"
   ]
  },
  {
   "cell_type": "code",
   "execution_count": null,
   "metadata": {
    "collapsed": true
   },
   "outputs": [],
   "source": []
  }
 ],
 "metadata": {
  "kernelspec": {
   "display_name": "Python 3",
   "language": "python",
   "name": "python3"
  },
  "language_info": {
   "codemirror_mode": {
    "name": "ipython",
    "version": 3
   },
   "file_extension": ".py",
   "mimetype": "text/x-python",
   "name": "python",
   "nbconvert_exporter": "python",
   "pygments_lexer": "ipython3",
   "version": "3.6.3"
  }
 },
 "nbformat": 4,
 "nbformat_minor": 2
}
