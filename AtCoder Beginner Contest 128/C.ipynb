{
 "cells": [
  {
   "cell_type": "code",
   "execution_count": 12,
   "metadata": {},
   "outputs": [
    {
     "name": "stdout",
     "output_type": "stream",
     "text": [
      "2 2\n",
      "2 1 2\n",
      "1 2\n",
      "0 1\n"
     ]
    }
   ],
   "source": [
    "n,m = map(int, input().split())\n",
    "s_list = []\n",
    "s_count_list = []\n",
    "for _ in range(n):\n",
    "    s = list(map(int,input().split()))\n",
    "    s_count_list.append(s[0])\n",
    "    s_list.append(s[1:])\n",
    "oe = list(map(int,input().split()))    "
   ]
  },
  {
   "cell_type": "code",
   "execution_count": 13,
   "metadata": {},
   "outputs": [
    {
     "data": {
      "text/plain": [
       "2"
      ]
     },
     "execution_count": 13,
     "metadata": {},
     "output_type": "execute_result"
    }
   ],
   "source": [
    "n"
   ]
  },
  {
   "cell_type": "code",
   "execution_count": 14,
   "metadata": {},
   "outputs": [
    {
     "data": {
      "text/plain": [
       "2"
      ]
     },
     "execution_count": 14,
     "metadata": {},
     "output_type": "execute_result"
    }
   ],
   "source": [
    "m"
   ]
  },
  {
   "cell_type": "code",
   "execution_count": 16,
   "metadata": {},
   "outputs": [
    {
     "data": {
      "text/plain": [
       "[[1, 2], [2]]"
      ]
     },
     "execution_count": 16,
     "metadata": {},
     "output_type": "execute_result"
    }
   ],
   "source": [
    "s_list"
   ]
  },
  {
   "cell_type": "code",
   "execution_count": 17,
   "metadata": {},
   "outputs": [
    {
     "data": {
      "text/plain": [
       "[0, 1]"
      ]
     },
     "execution_count": 17,
     "metadata": {},
     "output_type": "execute_result"
    }
   ],
   "source": [
    "oe"
   ]
  },
  {
   "cell_type": "code",
   "execution_count": 19,
   "metadata": {},
   "outputs": [],
   "source": [
    "import itertools"
   ]
  },
  {
   "cell_type": "code",
   "execution_count": 70,
   "metadata": {},
   "outputs": [
    {
     "name": "stdout",
     "output_type": "stream",
     "text": [
      "2 2\n",
      "2 1 2\n",
      "1 2\n",
      "0 1\n",
      "1\n"
     ]
    }
   ],
   "source": [
    "import itertools\n",
    "ans = 0\n",
    "n,m = map(int, input().split())\n",
    "s_list = []\n",
    "s_count_list = []\n",
    "for _ in range(m):\n",
    "    s = list(map(int,input().split()))\n",
    "    s_count_list.append(s[0])\n",
    "    s_list.append(s[1:])\n",
    "oe = list(map(int,input().split()))   \n",
    "seq = list(range(1, n+1))\n",
    "for i in range(1, n+1):\n",
    "    cmb = list(itertools.combinations(seq,i))\n",
    "    for j in range(len(cmb)):\n",
    "        ansv = []\n",
    "        for k in range(m):\n",
    "            ss = []\n",
    "            for l in range(s_count_list[k]):\n",
    "                if s_list[k][l] in list(cmb[j]):\n",
    "                    ss.append(s_list[k][l])\n",
    "            if len(ss)%2 == oe[k]:\n",
    "                ansv.append(True)\n",
    "            else:\n",
    "                ansv.append(False)\n",
    "        if all(ansv):\n",
    "            ans += 1\n",
    "print(ans)"
   ]
  },
  {
   "cell_type": "code",
   "execution_count": 68,
   "metadata": {},
   "outputs": [
    {
     "data": {
      "text/plain": [
       "[True, True]"
      ]
     },
     "execution_count": 68,
     "metadata": {},
     "output_type": "execute_result"
    }
   ],
   "source": [
    "ansv"
   ]
  },
  {
   "cell_type": "code",
   "execution_count": 47,
   "metadata": {},
   "outputs": [
    {
     "name": "stdout",
     "output_type": "stream",
     "text": [
      "1\n"
     ]
    }
   ],
   "source": [
    "for l in range(len)\n",
    "if s_list[0][0] in list(cmb[j]):\n",
    "    print(s_list[0][0])"
   ]
  },
  {
   "cell_type": "code",
   "execution_count": null,
   "metadata": {
    "collapsed": true
   },
   "outputs": [],
   "source": []
  }
 ],
 "metadata": {
  "kernelspec": {
   "display_name": "Python 3",
   "language": "python",
   "name": "python3"
  },
  "language_info": {
   "codemirror_mode": {
    "name": "ipython",
    "version": 3
   },
   "file_extension": ".py",
   "mimetype": "text/x-python",
   "name": "python",
   "nbconvert_exporter": "python",
   "pygments_lexer": "ipython3",
   "version": "3.6.3"
  }
 },
 "nbformat": 4,
 "nbformat_minor": 2
}
