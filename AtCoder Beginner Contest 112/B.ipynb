{
 "cells": [
  {
   "cell_type": "code",
   "execution_count": 17,
   "metadata": {},
   "outputs": [
    {
     "name": "stdout",
     "output_type": "stream",
     "text": [
      "3 70\n",
      "7 60\n",
      "1 80\n",
      "4 50\n",
      "4\n"
     ]
    }
   ],
   "source": [
    "N, T = map(int,input().split())\n",
    "\n",
    "clist = []\n",
    "for i in range(N):\n",
    "    c, t = map(int,input().split())\n",
    "    if t <= T:\n",
    "        clist.append(c)\n",
    "if len(clist) > 0:\n",
    "    print(min(clist))\n",
    "else:\n",
    "    print(\"TLE\")"
   ]
  },
  {
   "cell_type": "code",
   "execution_count": 23,
   "metadata": {},
   "outputs": [
    {
     "name": "stdout",
     "output_type": "stream",
     "text": [
      "7 60\n",
      "1 80\n",
      "4 50\n"
     ]
    }
   ],
   "source": [
    "string_list=[list(map(int, input().split())) for i in range(N)]"
   ]
  },
  {
   "cell_type": "code",
   "execution_count": 24,
   "metadata": {},
   "outputs": [
    {
     "data": {
      "text/plain": [
       "[[7, 60], [1, 80], [4, 50]]"
      ]
     },
     "execution_count": 24,
     "metadata": {},
     "output_type": "execute_result"
    }
   ],
   "source": [
    "string_list"
   ]
  },
  {
   "cell_type": "code",
   "execution_count": null,
   "metadata": {
    "collapsed": true
   },
   "outputs": [],
   "source": [
    "for "
   ]
  }
 ],
 "metadata": {
  "kernelspec": {
   "display_name": "Python 3",
   "language": "python",
   "name": "python3"
  },
  "language_info": {
   "codemirror_mode": {
    "name": "ipython",
    "version": 3
   },
   "file_extension": ".py",
   "mimetype": "text/x-python",
   "name": "python",
   "nbconvert_exporter": "python",
   "pygments_lexer": "ipython3",
   "version": "3.6.3"
  }
 },
 "nbformat": 4,
 "nbformat_minor": 2
}
