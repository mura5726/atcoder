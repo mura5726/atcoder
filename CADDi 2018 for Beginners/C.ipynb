{
 "cells": [
  {
   "cell_type": "code",
   "execution_count": 84,
   "metadata": {},
   "outputs": [
    {
     "name": "stdout",
     "output_type": "stream",
     "text": [
      "4 355666\n",
      "1\n"
     ]
    }
   ],
   "source": [
    "N, P = map(int, input().split())\n",
    "cnt = int(P**(1/(N)))\n",
    "\n",
    "if P == 1:\n",
    "    print(1)\n",
    "elif N == 1:\n",
    "    print(P)\n",
    "\n",
    "else:\n",
    "    for i in range(1, cnt):\n",
    "        a = P/(i**N)\n",
    "        if a.is_integer():\n",
    "            ans = i\n",
    "        else:\n",
    "            continue\n",
    "    print(ans)"
   ]
  },
  {
   "cell_type": "code",
   "execution_count": 62,
   "metadata": {},
   "outputs": [
    {
     "data": {
      "text/plain": [
       "1800814096.0"
      ]
     },
     "execution_count": 62,
     "metadata": {},
     "output_type": "execute_result"
    }
   ],
   "source": [
    "P / ans"
   ]
  },
  {
   "cell_type": "code",
   "execution_count": null,
   "metadata": {
    "collapsed": true
   },
   "outputs": [],
   "source": []
  }
 ],
 "metadata": {
  "kernelspec": {
   "display_name": "Python 3",
   "language": "python",
   "name": "python3"
  },
  "language_info": {
   "codemirror_mode": {
    "name": "ipython",
    "version": 3
   },
   "file_extension": ".py",
   "mimetype": "text/x-python",
   "name": "python",
   "nbconvert_exporter": "python",
   "pygments_lexer": "ipython3",
   "version": "3.6.3"
  }
 },
 "nbformat": 4,
 "nbformat_minor": 2
}
