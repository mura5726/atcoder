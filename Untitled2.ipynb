{
 "cells": [
  {
   "cell_type": "code",
   "execution_count": 21,
   "metadata": {
    "scrolled": true
   },
   "outputs": [
    {
     "name": "stdout",
     "output_type": "stream",
     "text": [
      "299792458\n",
      "9460730472580800\n",
      "9\n"
     ]
    }
   ],
   "source": [
    "S = str(input())\n",
    "K = int(input())\n",
    "if S[0] == 1 & K == 1:\n",
    "    print(1)\n",
    "elif len(S) == 1:\n",
    "    print(S[0])\n",
    "else:\n",
    "    print(S[1])"
   ]
  },
  {
   "cell_type": "code",
   "execution_count": 137,
   "metadata": {},
   "outputs": [
    {
     "name": "stdout",
     "output_type": "stream",
     "text": [
      "1114561\n",
      "7\n",
      "4\n"
     ]
    }
   ],
   "source": [
    "S = str(input())\n",
    "K = int(input())\n",
    "i = 0\n",
    "if S[0] == '1' and K == 1:\n",
    "    print(1)\n",
    "#     print('A')\n",
    "elif list(map(int,list(S[:(K-1)]))).count(1) == K-1:\n",
    "    print(S[K-1])\n",
    "#     print('B')\n",
    "\n",
    "elif len(S) == 1:\n",
    "    print(S[0])\n",
    "#     print('C')\n",
    "elif S[0] != '1':\n",
    "    print(S[0])\n",
    "#     print('D')\n",
    "else :\n",
    "    while(1):\n",
    "        if list(S[:(K-1)])[i] == '1':\n",
    "            i = i + 1\n",
    "        elif i > K:\n",
    "            print(S[1])\n",
    "#             print('E')\n",
    "        else:\n",
    "            print(list(S[:(K-1)])[i])\n",
    "            break\n",
    "    "
   ]
  },
  {
   "cell_type": "markdown",
   "metadata": {},
   "source": [
    " i"
   ]
  },
  {
   "cell_type": "code",
   "execution_count": 134,
   "metadata": {},
   "outputs": [
    {
     "data": {
      "text/plain": [
       "'1'"
      ]
     },
     "execution_count": 134,
     "metadata": {},
     "output_type": "execute_result"
    }
   ],
   "source": [
    "list(S[:(K-1)])[i]"
   ]
  },
  {
   "cell_type": "code",
   "execution_count": 4,
   "metadata": {},
   "outputs": [],
   "source": [
    "i = 5000*(10**12)"
   ]
  },
  {
   "cell_type": "code",
   "execution_count": 8,
   "metadata": {},
   "outputs": [
    {
     "data": {
      "text/plain": [
       "10715086071862673209484250490600018105614048117055336074437503883703510511249361224931983788156958581275946729175531468251871452856923140435984577574698574803934567774824230985421074605062371141877954182153046474983581941267398767559165543946077062914571196477686542167660429831652624386837205668069376"
      ]
     },
     "execution_count": 8,
     "metadata": {},
     "output_type": "execute_result"
    }
   ],
   "source": [
    "2**1000"
   ]
  },
  {
   "cell_type": "code",
   "execution_count": 6,
   "metadata": {},
   "outputs": [
    {
     "data": {
      "text/plain": [
       "1000000000000000000"
      ]
     },
     "execution_count": 6,
     "metadata": {},
     "output_type": "execute_result"
    }
   ],
   "source": [
    "10**18"
   ]
  },
  {
   "cell_type": "code",
   "execution_count": 11,
   "metadata": {},
   "outputs": [
    {
     "name": "stdout",
     "output_type": "stream",
     "text": [
      "2\n"
     ]
    }
   ],
   "source": [
    "if S[0] == 1 & K == 1:\n",
    "    print(1)\n",
    "else:\n",
    "    print(S[1])"
   ]
  },
  {
   "cell_type": "code",
   "execution_count": null,
   "metadata": {
    "collapsed": true
   },
   "outputs": [],
   "source": []
  }
 ],
 "metadata": {
  "kernelspec": {
   "display_name": "Python 3",
   "language": "python",
   "name": "python3"
  },
  "language_info": {
   "codemirror_mode": {
    "name": "ipython",
    "version": 3
   },
   "file_extension": ".py",
   "mimetype": "text/x-python",
   "name": "python",
   "nbconvert_exporter": "python",
   "pygments_lexer": "ipython3",
   "version": "3.6.3"
  }
 },
 "nbformat": 4,
 "nbformat_minor": 2
}
