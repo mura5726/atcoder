{
 "cells": [
  {
   "cell_type": "code",
   "execution_count": 12,
   "metadata": {},
   "outputs": [
    {
     "name": "stdout",
     "output_type": "stream",
     "text": [
      "4 9\n",
      "3 3 3 3\n",
      "4\n"
     ]
    }
   ],
   "source": [
    "N,X=map(int,input().split())\n",
    "L = list(map(int,input().split()))\n",
    "\n",
    "CUMSUM = []\n",
    "c = 0\n",
    "for i in L:\n",
    "    if c <= X:\n",
    "        CUMSUM.append(c)\n",
    "        c += i\n",
    "if c <= X:\n",
    "    CUMSUM.append(c)\n",
    "\n",
    "print(len(CUMSUM[:X]))"
   ]
  },
  {
   "cell_type": "code",
   "execution_count": null,
   "metadata": {
    "collapsed": true
   },
   "outputs": [],
   "source": []
  }
 ],
 "metadata": {
  "kernelspec": {
   "display_name": "Python 3",
   "language": "python",
   "name": "python3"
  },
  "language_info": {
   "codemirror_mode": {
    "name": "ipython",
    "version": 3
   },
   "file_extension": ".py",
   "mimetype": "text/x-python",
   "name": "python",
   "nbconvert_exporter": "python",
   "pygments_lexer": "ipython3",
   "version": "3.6.3"
  }
 },
 "nbformat": 4,
 "nbformat_minor": 2
}
