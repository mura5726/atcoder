{
 "cells": [
  {
   "cell_type": "code",
   "execution_count": 21,
   "metadata": {},
   "outputs": [
    {
     "name": "stdout",
     "output_type": "stream",
     "text": [
      "8\n",
      "2\n",
      "0\n",
      "1\n",
      "6\n",
      "0\n",
      "8\n",
      "2\n",
      "1\n",
      "9\n"
     ]
    }
   ],
   "source": [
    "N=int(input())\n",
    "ans=0\n",
    "A=[]\n",
    "for _ in range(N):\n",
    "    ipt=int(input())\n",
    "    ans+=(ipt//2)\n",
    "    A.append(ipt%2)\n",
    "\n",
    "for i in range(N-1):\n",
    "    if A[i+1]==1 and A[i]==1: \n",
    "        A[i+1]=0;A[i]=0\n",
    "        ans+=1\n",
    "\n",
    "print(ans)"
   ]
  },
  {
   "cell_type": "code",
   "execution_count": 23,
   "metadata": {},
   "outputs": [
    {
     "name": "stdout",
     "output_type": "stream",
     "text": [
      "8\n",
      "2\n",
      "0\n",
      "1\n",
      "6\n",
      "0\n",
      "8\n",
      "2\n",
      "1\n"
     ]
    }
   ],
   "source": [
    "N=int(input())\n",
    "A=[int(input()) for _ in range(N)]\n",
    "\n",
    "cnt=0\n",
    "ans=0\n",
    "for i in range(N):\n",
    "    if A[i] != 0:\n",
    "        cnt+= A[i]\n",
    "    else:\n",
    "        ans+=(cnt//2)\n",
    "        cnt=0\n",
    "print(ans+cnt//2)"
   ]
  },
  {
   "cell_type": "code",
   "execution_count": 43,
   "metadata": {},
   "outputs": [
    {
     "data": {
      "text/plain": [
       "[2, 0, 1, 6, 0, 8, 2, 1]"
      ]
     },
     "execution_count": 43,
     "metadata": {},
     "output_type": "execute_result"
    }
   ],
   "source": [
    "A"
   ]
  },
  {
   "cell_type": "code",
   "execution_count": null,
   "metadata": {
    "collapsed": true
   },
   "outputs": [],
   "source": []
  }
 ],
 "metadata": {
  "kernelspec": {
   "display_name": "Python 3",
   "language": "python",
   "name": "python3"
  },
  "language_info": {
   "codemirror_mode": {
    "name": "ipython",
    "version": 3
   },
   "file_extension": ".py",
   "mimetype": "text/x-python",
   "name": "python",
   "nbconvert_exporter": "python",
   "pygments_lexer": "ipython3",
   "version": "3.6.3"
  }
 },
 "nbformat": 4,
 "nbformat_minor": 2
}
