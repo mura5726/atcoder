{
 "cells": [
  {
   "cell_type": "code",
   "execution_count": 53,
   "metadata": {},
   "outputs": [
    {
     "name": "stdout",
     "output_type": "stream",
     "text": [
      "1\n",
      "a\n",
      "z\n",
      "2\n"
     ]
    }
   ],
   "source": [
    "N=int(input())\n",
    "s=input()\n",
    "t=input()\n",
    "ans=N*2\n",
    "for i in range(0,N):\n",
    "    for j in range(0,N):\n",
    "        if N-i+N-j >= N:\n",
    "            ST=s[0:N-i]+t[j:N]\n",
    "            if ST[0:N]==s and ST[-N:]==t:\n",
    "                ans=min(len(ST),ans)\n",
    "print(ans)"
   ]
  },
  {
   "cell_type": "code",
   "execution_count": null,
   "metadata": {
    "collapsed": true
   },
   "outputs": [],
   "source": []
  }
 ],
 "metadata": {
  "kernelspec": {
   "display_name": "Python 3",
   "language": "python",
   "name": "python3"
  },
  "language_info": {
   "codemirror_mode": {
    "name": "ipython",
    "version": 3
   },
   "file_extension": ".py",
   "mimetype": "text/x-python",
   "name": "python",
   "nbconvert_exporter": "python",
   "pygments_lexer": "ipython3",
   "version": "3.6.3"
  }
 },
 "nbformat": 4,
 "nbformat_minor": 2
}
