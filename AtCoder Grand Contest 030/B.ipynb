{
 "cells": [
  {
   "cell_type": "code",
   "execution_count": 16,
   "metadata": {},
   "outputs": [
    {
     "name": "stdout",
     "output_type": "stream",
     "text": [
      "10 6\n",
      "1\n",
      "2\n",
      "3\n",
      "6\n",
      "7\n",
      "8\n",
      "[[1, 2], [0, 5]]\n",
      "[1 2 3 6 7]\n",
      "[[-7, -5], [0, 4]]\n",
      "[1 2 3 6]\n",
      "[[-6, -3], [0, 3]]\n",
      "[1 2 3]\n",
      "[[-5, 1], [0, 2]]\n",
      "[1 2]\n",
      "[[-2, 5], [0, 1]]\n",
      "[1]\n",
      "[[-1, 7], [0, 0]]\n",
      "[]\n",
      "7\n"
     ]
    }
   ],
   "source": [
    "import numpy as np\n",
    "\n",
    "L, N = map(int, input().split())\n",
    "\n",
    "Xlist = []\n",
    "for i in range(N):\n",
    "    Xlist.append(int(input()))\n",
    "Xlist = np.array(Xlist)\n",
    "\n",
    "def distance_fromX(x, a, l) :\n",
    "    dist1 = []\n",
    "    dist2 = []\n",
    "    for i in range(len(x)):\n",
    "        dist1.append(x[i] - a)\n",
    "        dist2.append(l - x[i] - a)\n",
    "    return([[min(dist1),min(dist2)], [dist1.index(min(dist1)),dist2.index(min(dist2))]])\n",
    "\n",
    "def fire_index(x):\n",
    "    return([max(x[0]),x[1][x[0].index(max(x[0]))]])\n",
    "\n",
    "dist = 0\n",
    "a = 0\n",
    "for i in range(0,N):\n",
    "    dfx = distance_fromX(Xlist,a, L)\n",
    "    print(dfx)\n",
    "    fi = fire_index(dfx)\n",
    "    dist = dist + max(dfx[0])\n",
    "    \n",
    "    ind = np.ones(N-i, dtype=bool)\n",
    "    ind[fi[1]] = False\n",
    "    a = Xlist[fi[1]]\n",
    "    Xlist = np.array(Xlist)[ind]\n",
    "    \n",
    "#     print([a,max(dfx[0])])\n",
    "    print(Xlist)\n",
    "#     print(max(dfx[0]))\n",
    "print(dist)"
   ]
  },
  {
   "cell_type": "code",
   "execution_count": 70,
   "metadata": {},
   "outputs": [
    {
     "data": {
      "text/plain": [
       "[[5, 3], [0, 1]]"
      ]
     },
     "execution_count": 70,
     "metadata": {},
     "output_type": "execute_result"
    }
   ],
   "source": [
    "distance_fromX([7,9],2, 10)"
   ]
  },
  {
   "cell_type": "code",
   "execution_count": 86,
   "metadata": {},
   "outputs": [
    {
     "data": {
      "text/plain": [
       "0"
      ]
     },
     "execution_count": 86,
     "metadata": {},
     "output_type": "execute_result"
    }
   ],
   "source": [
    "i"
   ]
  },
  {
   "cell_type": "code",
   "execution_count": 2,
   "metadata": {},
   "outputs": [
    {
     "data": {
      "text/plain": [
       "array([], dtype=int32)"
      ]
     },
     "execution_count": 2,
     "metadata": {},
     "output_type": "execute_result"
    }
   ],
   "source": [
    "Xlist"
   ]
  },
  {
   "cell_type": "code",
   "execution_count": 4,
   "metadata": {},
   "outputs": [],
   "source": [
    "Xlist_t = [1,2,3,6,7,9]"
   ]
  },
  {
   "cell_type": "code",
   "execution_count": 5,
   "metadata": {},
   "outputs": [
    {
     "data": {
      "text/plain": [
       "10"
      ]
     },
     "execution_count": 5,
     "metadata": {},
     "output_type": "execute_result"
    }
   ],
   "source": [
    "L"
   ]
  },
  {
   "cell_type": "code",
   "execution_count": 6,
   "metadata": {
    "scrolled": true
   },
   "outputs": [
    {
     "data": {
      "text/plain": [
       "6"
      ]
     },
     "execution_count": 6,
     "metadata": {},
     "output_type": "execute_result"
    }
   ],
   "source": [
    "N"
   ]
  },
  {
   "cell_type": "code",
   "execution_count": 40,
   "metadata": {
    "collapsed": true
   },
   "outputs": [],
   "source": [
    "a = 8"
   ]
  },
  {
   "cell_type": "code",
   "execution_count": 41,
   "metadata": {},
   "outputs": [
    {
     "name": "stdout",
     "output_type": "stream",
     "text": [
      "[-7, 9]\n"
     ]
    }
   ],
   "source": [
    "dist1_t = []\n",
    "dist2_t = []\n",
    "for i in Xlist_t:\n",
    "    dist1_t.append(i - a)\n",
    "    dist2_t.append(L - (i - a))\n",
    "print([dist1_t[0], dist2_t[-1]])"
   ]
  },
  {
   "cell_type": "code",
   "execution_count": 42,
   "metadata": {},
   "outputs": [
    {
     "data": {
      "text/plain": [
       "[-7, -6, -5, -2, -1, 1]"
      ]
     },
     "execution_count": 42,
     "metadata": {},
     "output_type": "execute_result"
    }
   ],
   "source": [
    "dist1_t"
   ]
  },
  {
   "cell_type": "code",
   "execution_count": 43,
   "metadata": {},
   "outputs": [
    {
     "data": {
      "text/plain": [
       "[17, 16, 15, 12, 11, 9]"
      ]
     },
     "execution_count": 43,
     "metadata": {},
     "output_type": "execute_result"
    }
   ],
   "source": [
    "dist2_t"
   ]
  },
  {
   "cell_type": "code",
   "execution_count": 52,
   "metadata": {},
   "outputs": [
    {
     "data": {
      "text/plain": [
       "[1]"
      ]
     },
     "execution_count": 52,
     "metadata": {},
     "output_type": "execute_result"
    }
   ],
   "source": [
    "[min(abs(np.array(Xlist_t)-8))]"
   ]
  },
  {
   "cell_type": "code",
   "execution_count": 60,
   "metadata": {},
   "outputs": [
    {
     "data": {
      "text/plain": [
       "4"
      ]
     },
     "execution_count": 60,
     "metadata": {},
     "output_type": "execute_result"
    }
   ],
   "source": [
    "\n",
    "idx = list(abs(np.array(Xlist_t)-a)).index(min(abs(np.array(Xlist_t)-a)))"
   ]
  },
  {
   "cell_type": "code",
   "execution_count": 67,
   "metadata": {},
   "outputs": [
    {
     "name": "stdout",
     "output_type": "stream",
     "text": [
      "9\n",
      "17\n",
      "24\n",
      "30\n",
      "33\n",
      "35\n",
      "35\n"
     ]
    }
   ],
   "source": [
    "Xlist_t = [1,2,3,6,7,9]\n",
    "L = 10\n",
    "N = 6\n",
    "\n",
    "a = 0\n",
    "dist = 0\n",
    "for i in range(N):\n",
    "\n",
    "    idx = list(abs(np.array(Xlist_t)-a)).index(min(abs(np.array(Xlist_t)-a)))\n",
    "    dist = dist + max(abs(np.array(Xlist_t)-a))\n",
    "    a = Xlist_t[idx]\n",
    "    ind = np.ones(N-i, dtype=bool)\n",
    "    ind[idx] = False\n",
    "    Xlist_t = np.array(Xlist_t)[ind]\n",
    "    print(dist)\n",
    "    \n",
    "print(dist)"
   ]
  },
  {
   "cell_type": "code",
   "execution_count": null,
   "metadata": {
    "collapsed": true
   },
   "outputs": [],
   "source": []
  }
 ],
 "metadata": {
  "kernelspec": {
   "display_name": "Python 3",
   "language": "python",
   "name": "python3"
  },
  "language_info": {
   "codemirror_mode": {
    "name": "ipython",
    "version": 3
   },
   "file_extension": ".py",
   "mimetype": "text/x-python",
   "name": "python",
   "nbconvert_exporter": "python",
   "pygments_lexer": "ipython3",
   "version": "3.6.3"
  }
 },
 "nbformat": 4,
 "nbformat_minor": 2
}
