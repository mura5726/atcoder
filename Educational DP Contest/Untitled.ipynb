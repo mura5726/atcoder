{
 "cells": [
  {
   "cell_type": "code",
   "execution_count": 1,
   "metadata": {},
   "outputs": [
    {
     "name": "stdout",
     "output_type": "stream",
     "text": [
      "ABCABC\n"
     ]
    }
   ],
   "source": [
    "s = input()"
   ]
  },
  {
   "cell_type": "code",
   "execution_count": 2,
   "metadata": {},
   "outputs": [
    {
     "data": {
      "text/plain": [
       "'ABCABC'"
      ]
     },
     "execution_count": 2,
     "metadata": {},
     "output_type": "execute_result"
    }
   ],
   "source": [
    "s"
   ]
  },
  {
   "cell_type": "code",
   "execution_count": 3,
   "metadata": {},
   "outputs": [
    {
     "data": {
      "text/plain": [
       "2"
      ]
     },
     "execution_count": 3,
     "metadata": {},
     "output_type": "execute_result"
    }
   ],
   "source": [
    "s.count('ABC')"
   ]
  },
  {
   "cell_type": "code",
   "execution_count": 32,
   "metadata": {},
   "outputs": [
    {
     "name": "stdout",
     "output_type": "stream",
     "text": [
      "15 1 3 15 13\n",
      "...#.#...#.#...\n",
      "Yes\n"
     ]
    }
   ],
   "source": [
    "N, A, B, C, D = map(int, input().split())\n",
    "\n",
    "L = list(input())\n",
    "\n",
    "L[A-1] = \"A\"\n",
    "L[B-1] = \"B\"\n",
    "\n",
    "A_POS = A-1\n",
    "B_POS = B-1\n",
    "cnt = 0\n",
    "\n",
    "while(A_POS != C-1 or B_POS != D-1):\n",
    "    if A_POS < D-1:\n",
    "        if L[A_POS+1] == \".\":\n",
    "            A_POS = A_POS+1\n",
    "            L = list(\"\".join(L).replace(\"A\", \".\"))\n",
    "            L[A_POS] = \"A\"\n",
    "            cnt = 0\n",
    "        elif L[A_POS+2] == \".\":\n",
    "            A_POS = A_POS+2\n",
    "            L = list(\"\".join(L).replace(\"A\", \".\"))\n",
    "            L[A_POS] = \"A\"\n",
    "            cnt = 0\n",
    "        else:\n",
    "            cnt += 1\n",
    "            if cnt == 3:\n",
    "                break\n",
    "                \n",
    "    elif A_POS < D-2:\n",
    "        if L[A_POS+1] == \".\":\n",
    "            A_POS = A_POS+1\n",
    "            L = list(\"\".join(L).replace(\"A\", \".\"))\n",
    "            L[A_POS] = \"A\"\n",
    "            cnt = 0\n",
    "        elif L[A_POS+2] == \".\":\n",
    "            A_POS = A_POS+2\n",
    "            L = list(\"\".join(L).replace(\"A\", \".\"))\n",
    "            L[A_POS] = \"A\"\n",
    "            cnt = 0\n",
    "        else:\n",
    "            cnt += 1\n",
    "            if cnt == 3:\n",
    "                break\n",
    "    \n",
    "    if B_POS < D-1:\n",
    "        if L[B_POS+1] == \".\":\n",
    "            B_POS = B_POS+1\n",
    "            L = list(\"\".join(L).replace(\"B\", \".\"))\n",
    "            L[B_POS] = \"B\"\n",
    "            cnt = 0\n",
    "        elif L[B_POS+2] == \".\":\n",
    "            B_POS = B_POS+2\n",
    "            L = list(\"\".join(L).replace(\"B\", \".\"))\n",
    "            L[B_POS] = \"B\"\n",
    "            cnt = 0\n",
    "        else:\n",
    "            cnt += 1\n",
    "            if cnt == 4:\n",
    "                break\n",
    "                \n",
    "    elif B_POS < D-2:\n",
    "        if L[B_POS+1] == \".\":\n",
    "            B_POS = B_POS+1\n",
    "            L = list(\"\".join(L).replace(\"B\", \".\"))\n",
    "            L[B_POS] = \"B\"\n",
    "            cnt = 0\n",
    "        elif L[B_POS+2] == \".\":\n",
    "            B_POS = B_POS+2\n",
    "            L = list(\"\".join(L).replace(\"B\", \".\"))\n",
    "            L[B_POS] = \"B\"\n",
    "            cnt = 0\n",
    "        else:\n",
    "            cnt += 1\n",
    "            if cnt == 4:\n",
    "                break\n",
    "if cnt == 4:\n",
    "    print(\"No\")\n",
    "else:\n",
    "    print(\"Yes\")"
   ]
  },
  {
   "cell_type": "code",
   "execution_count": 30,
   "metadata": {},
   "outputs": [
    {
     "data": {
      "text/plain": [
       "['.', '.', '.', '#', '.', '#', '.', '.', '.', '#', 'A', '#', 'B', '.', '.']"
      ]
     },
     "execution_count": 30,
     "metadata": {},
     "output_type": "execute_result"
    }
   ],
   "source": [
    "L"
   ]
  },
  {
   "cell_type": "code",
   "execution_count": 31,
   "metadata": {},
   "outputs": [
    {
     "data": {
      "text/plain": [
       "3"
      ]
     },
     "execution_count": 31,
     "metadata": {},
     "output_type": "execute_result"
    }
   ],
   "source": [
    "cnt"
   ]
  },
  {
   "cell_type": "code",
   "execution_count": null,
   "metadata": {
    "collapsed": true
   },
   "outputs": [],
   "source": []
  }
 ],
 "metadata": {
  "kernelspec": {
   "display_name": "Python 3",
   "language": "python",
   "name": "python3"
  },
  "language_info": {
   "codemirror_mode": {
    "name": "ipython",
    "version": 3
   },
   "file_extension": ".py",
   "mimetype": "text/x-python",
   "name": "python",
   "nbconvert_exporter": "python",
   "pygments_lexer": "ipython3",
   "version": "3.6.3"
  }
 },
 "nbformat": 4,
 "nbformat_minor": 2
}
