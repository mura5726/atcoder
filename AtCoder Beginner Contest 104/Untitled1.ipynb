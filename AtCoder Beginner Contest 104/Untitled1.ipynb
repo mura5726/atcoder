{
 "cells": [
  {
   "cell_type": "code",
   "execution_count": null,
   "metadata": {},
   "outputs": [],
   "source": [
    "if int(input()) < 1200:\n",
    "    print(\"ABC\")\n",
    "elif int(input()) < 2800:\n",
    "    print(\"ARC\")\n",
    "elif int(input()) < 4208:\n",
    "    print(\"AGC\")"
   ]
  },
  {
   "cell_type": "code",
   "execution_count": null,
   "metadata": {
    "collapsed": true
   },
   "outputs": [],
   "source": []
  }
 ],
 "metadata": {
  "kernelspec": {
   "display_name": "Python 3",
   "language": "python",
   "name": "python3"
  }
 },
 "nbformat": 4,
 "nbformat_minor": 2
}
