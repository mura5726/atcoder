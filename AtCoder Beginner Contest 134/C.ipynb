{
 "cells": [
  {
   "cell_type": "code",
   "execution_count": 5,
   "metadata": {},
   "outputs": [
    {
     "name": "stdout",
     "output_type": "stream",
     "text": [
      "2\n",
      "5\n",
      "5\n",
      "5\n",
      "5\n"
     ]
    }
   ],
   "source": [
    "import numpy as np\n",
    "N=int(input())\n",
    "A=[int(input()) for _ in range(N)]\n",
    "Anp=np.array(A)\n",
    "for i in range(N):\n",
    "    vec=np.ones(N,dtype=bool)\n",
    "    vec[i]=False\n",
    "    print(max(Anp[vec]))"
   ]
  },
  {
   "cell_type": "code",
   "execution_count": 16,
   "metadata": {},
   "outputs": [
    {
     "name": "stdout",
     "output_type": "stream",
     "text": [
      "3\n",
      "1\n",
      "4\n",
      "3\n",
      "4\n",
      "3\n",
      "4\n"
     ]
    }
   ],
   "source": [
    "N=int(input())\n",
    "A=[int(input()) for _ in range(N)]\n",
    "AS=sorted(A)\n",
    "# for i in range(N):\n",
    "#     if AS[-1]==A[i]:\n",
    "#         print(AS[-2])\n",
    "#     else:\n",
    "#         print(AS[-1])\n",
    "for i in range(N):\n",
    "    print(AS[-2] if AS[-1]==A[i] else AS[-1])"
   ]
  },
  {
   "cell_type": "code",
   "execution_count": 20,
   "metadata": {},
   "outputs": [
    {
     "name": "stdout",
     "output_type": "stream",
     "text": [
      "5\n",
      "0 0 0 0 0\n",
      "[0 1 2 3 4]\n",
      "[1 3]\n",
      "[2]\n",
      "[3]\n",
      "[4]\n",
      "0\n"
     ]
    }
   ],
   "source": [
    "import numpy as np\n",
    "N=int(input())\n",
    "A=np.array(list(map(int,input().split())))\n",
    "arr=[]\n",
    "c=0\n",
    "for i in range(0,N):\n",
    "#     vec=np.zeros(N,dtype=bool)\n",
    "#     vec[np.arange(i,N,i+1)]=True\n",
    "#     print(np.arange(i,N,i+1))\n",
    "    if sum(A[np.arange(i,N,i+1)])%2==A[i]:\n",
    "        c+=1\n",
    "        if A[i]==1:\n",
    "            arr.extend([str(i+1)])\n",
    "if c==N:    \n",
    "    ans=len(arr)\n",
    "    print(ans)\n",
    "    if ans>0:\n",
    "        print(\" \".join(arr))\n",
    "else:\n",
    "    print(-1)"
   ]
  },
  {
   "cell_type": "code",
   "execution_count": null,
   "metadata": {
    "collapsed": true
   },
   "outputs": [],
   "source": []
  }
 ],
 "metadata": {
  "kernelspec": {
   "display_name": "Python 3",
   "language": "python",
   "name": "python3"
  },
  "language_info": {
   "codemirror_mode": {
    "name": "ipython",
    "version": 3
   },
   "file_extension": ".py",
   "mimetype": "text/x-python",
   "name": "python",
   "nbconvert_exporter": "python",
   "pygments_lexer": "ipython3",
   "version": "3.6.3"
  }
 },
 "nbformat": 4,
 "nbformat_minor": 2
}
