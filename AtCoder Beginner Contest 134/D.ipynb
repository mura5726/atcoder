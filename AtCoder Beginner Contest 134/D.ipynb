{
 "cells": [
  {
   "cell_type": "code",
   "execution_count": 20,
   "metadata": {},
   "outputs": [
    {
     "name": "stdout",
     "output_type": "stream",
     "text": [
      "5\n",
      "1 1 1 1 1\n",
      "-1\n"
     ]
    }
   ],
   "source": [
    "import numpy as np\n",
    "N=int(input())\n",
    "A=np.array(list(map(int,input().split())))\n",
    "arr=[]\n",
    "c=0\n",
    "for i in range(0,N):\n",
    "    vec=np.zeros(N,dtype=bool)\n",
    "    vec[np.arange(i,N,i+1)]=True\n",
    "    if sum(A[vec])%2==A[i]:\n",
    "        c+=1\n",
    "        if A[i]==1:\n",
    "            arr.extend([str(i+1)])\n",
    "if c==N:    \n",
    "    ans=len(arr)\n",
    "    print(ans)\n",
    "    if ans>0:\n",
    "        print(\" \".join(arr))\n",
    "else:\n",
    "    print(-1)"
   ]
  },
  {
   "cell_type": "code",
   "execution_count": 22,
   "metadata": {},
   "outputs": [
    {
     "data": {
      "text/plain": [
       "'1 3 4 5'"
      ]
     },
     "execution_count": 22,
     "metadata": {},
     "output_type": "execute_result"
    }
   ],
   "source": [
    "\" \".join(arr)"
   ]
  },
  {
   "cell_type": "code",
   "execution_count": null,
   "metadata": {
    "collapsed": true
   },
   "outputs": [],
   "source": []
  }
 ],
 "metadata": {
  "kernelspec": {
   "display_name": "Python 3",
   "language": "python",
   "name": "python3"
  },
  "language_info": {
   "codemirror_mode": {
    "name": "ipython",
    "version": 3
   },
   "file_extension": ".py",
   "mimetype": "text/x-python",
   "name": "python",
   "nbconvert_exporter": "python",
   "pygments_lexer": "ipython3",
   "version": "3.6.3"
  }
 },
 "nbformat": 4,
 "nbformat_minor": 2
}
