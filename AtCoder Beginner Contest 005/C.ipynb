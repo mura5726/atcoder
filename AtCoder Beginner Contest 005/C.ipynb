{
 "cells": [
  {
   "cell_type": "code",
   "execution_count": 6,
   "metadata": {},
   "outputs": [
    {
     "name": "stdout",
     "output_type": "stream",
     "text": [
      "1\n",
      "3\n",
      "1 2 3\n",
      "3\n",
      "2 3 5\n",
      "no\n",
      "yes\n"
     ]
    }
   ],
   "source": [
    "import numpy as np\n",
    "\n",
    "t=int(input())\n",
    "n=int(input())\n",
    "a=np.array(sorted(map(int,input().split())))\n",
    "m=int(input())\n",
    "b=np.array(sorted(map(int,input().split())))\n",
    "\n",
    "# print(['no','yes'][all([any((a<(b[i]))*(a>=(b[i]-t))) for i in range(m)])])\n",
    "\n",
    "f=[]\n",
    "for i in range(m):\n",
    "    x=(a<=(b[i]))*(a>=(b[i]-t))\n",
    "    try:\n",
    "        a=np.delete(a,np.amin(np.where(x == True)))\n",
    "        f.append(any(x))\n",
    "    except:\n",
    "        print('no')\n",
    "        exit()\n",
    "print(['no','yes'][all(f)])"
   ]
  },
  {
   "cell_type": "code",
   "execution_count": 4,
   "metadata": {},
   "outputs": [
    {
     "data": {
      "text/plain": [
       "array([3])"
      ]
     },
     "execution_count": 4,
     "metadata": {},
     "output_type": "execute_result"
    }
   ],
   "source": [
    "a"
   ]
  },
  {
   "cell_type": "code",
   "execution_count": null,
   "metadata": {
    "collapsed": true
   },
   "outputs": [],
   "source": []
  }
 ],
 "metadata": {
  "kernelspec": {
   "display_name": "Python 3",
   "language": "python",
   "name": "python3"
  },
  "language_info": {
   "codemirror_mode": {
    "name": "ipython",
    "version": 3
   },
   "file_extension": ".py",
   "mimetype": "text/x-python",
   "name": "python",
   "nbconvert_exporter": "python",
   "pygments_lexer": "ipython3",
   "version": "3.6.3"
  }
 },
 "nbformat": 4,
 "nbformat_minor": 2
}
