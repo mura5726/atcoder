{
 "cells": [
  {
   "cell_type": "code",
   "execution_count": 52,
   "metadata": {},
   "outputs": [
    {
     "name": "stdout",
     "output_type": "stream",
     "text": [
      "3\n",
      "1 1 1\n",
      "1 1 1\n",
      "9 9 9\n",
      "1\n",
      "4\n",
      "27\n"
     ]
    }
   ],
   "source": [
    "import numpy as np\n",
    "n=int(input())\n",
    "d=[]\n",
    "for i in range(n):\n",
    "    d.append(list(map(int,input().split())))\n",
    "m=np.reshape(np.array(d),(n,n))\n",
    "\n",
    "x=[]\n",
    "for l in range(n):\n",
    "    for k in range(n):\n",
    "        for i in range(l+1,n+1):\n",
    "            for j in range(k+1,n+1):\n",
    "                x.append([(i-l)*(j-k),np.sum(m[l:i,k:j])])\n",
    "\n",
    "# import pandas as pd\n",
    "d=np.array(x)\n",
    "q=int(input())\n",
    "for i in range(q):\n",
    "    print(max(d[d[:,0]<=int(input()),1]))"
   ]
  },
  {
   "cell_type": "code",
   "execution_count": 35,
   "metadata": {},
   "outputs": [
    {
     "data": {
      "text/plain": [
       "3"
      ]
     },
     "execution_count": 35,
     "metadata": {},
     "output_type": "execute_result"
    }
   ],
   "source": [
    "print(d[d[0]<=p[0]][1].max())"
   ]
  },
  {
   "cell_type": "code",
   "execution_count": null,
   "metadata": {
    "collapsed": true
   },
   "outputs": [],
   "source": []
  }
 ],
 "metadata": {
  "kernelspec": {
   "display_name": "Python 3",
   "language": "python",
   "name": "python3"
  },
  "language_info": {
   "codemirror_mode": {
    "name": "ipython",
    "version": 3
   },
   "file_extension": ".py",
   "mimetype": "text/x-python",
   "name": "python",
   "nbconvert_exporter": "python",
   "pygments_lexer": "ipython3",
   "version": "3.6.3"
  }
 },
 "nbformat": 4,
 "nbformat_minor": 2
}
