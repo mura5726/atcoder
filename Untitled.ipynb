{
 "cells": [
  {
   "cell_type": "code",
   "execution_count": 4,
   "metadata": {},
   "outputs": [
    {
     "name": "stdout",
     "output_type": "stream",
     "text": [
      "2 2\n",
      "1\n"
     ]
    }
   ],
   "source": [
    "A, B = map(int, input().split())\n",
    "print((A - 1) * (B - 1))"
   ]
  },
  {
   "cell_type": "code",
   "execution_count": 3,
   "metadata": {},
   "outputs": [
    {
     "data": {
      "text/plain": [
       "1"
      ]
     },
     "execution_count": 3,
     "metadata": {},
     "output_type": "execute_result"
    }
   ],
   "source": [
    "(A - 1) * (B - 1)"
   ]
  },
  {
   "cell_type": "code",
   "execution_count": 43,
   "metadata": {},
   "outputs": [
    {
     "name": "stdout",
     "output_type": "stream",
     "text": [
      "200\n",
      "5\n"
     ]
    }
   ],
   "source": [
    "# sympyをインポート\n",
    "import sympy\n",
    "N = int(input())\n",
    "print(int(list(map(sympy.divisor_count,list(range(1,N + 1))[:: 2])).count(8)))"
   ]
  },
  {
   "cell_type": "code",
   "execution_count": 8,
   "metadata": {},
   "outputs": [
    {
     "data": {
      "text/plain": [
       "8"
      ]
     },
     "execution_count": 8,
     "metadata": {},
     "output_type": "execute_result"
    }
   ],
   "source": [
    "# 2016の正の約数をカウントする\n",
    "sympy.divisor_count(105)"
   ]
  },
  {
   "cell_type": "code",
   "execution_count": 18,
   "metadata": {},
   "outputs": [
    {
     "data": {
      "text/plain": [
       "1"
      ]
     },
     "execution_count": 18,
     "metadata": {},
     "output_type": "execute_result"
    }
   ],
   "source": [
    "list(map(sympy.divisor_count,list(range(1,105 + 1))[:: 2])).count(8)"
   ]
  },
  {
   "cell_type": "code",
   "execution_count": 21,
   "metadata": {},
   "outputs": [
    {
     "ename": "ValueError",
     "evalue": "invalid literal for int() with base 10: '-f'",
     "output_type": "error",
     "traceback": [
      "\u001b[0;31m---------------------------------------------------------------------------\u001b[0m",
      "\u001b[0;31mValueError\u001b[0m                                Traceback (most recent call last)",
      "\u001b[0;32m<ipython-input-21-462fc7b115bd>\u001b[0m in \u001b[0;36m<module>\u001b[0;34m()\u001b[0m\n\u001b[1;32m      5\u001b[0m \u001b[0;32mimport\u001b[0m \u001b[0msys\u001b[0m\u001b[0;34m\u001b[0m\u001b[0m\n\u001b[1;32m      6\u001b[0m \u001b[0;34m\u001b[0m\u001b[0m\n\u001b[0;32m----> 7\u001b[0;31m \u001b[0mnum\u001b[0m \u001b[0;34m=\u001b[0m \u001b[0mint\u001b[0m\u001b[0;34m(\u001b[0m\u001b[0msys\u001b[0m\u001b[0;34m.\u001b[0m\u001b[0margv\u001b[0m\u001b[0;34m[\u001b[0m\u001b[0;36m1\u001b[0m\u001b[0;34m]\u001b[0m\u001b[0;34m)\u001b[0m\u001b[0;34m\u001b[0m\u001b[0m\n\u001b[0m\u001b[1;32m      8\u001b[0m \u001b[0myakusuu_array\u001b[0m \u001b[0;34m=\u001b[0m \u001b[0;34m[\u001b[0m\u001b[0;34m]\u001b[0m\u001b[0;34m\u001b[0m\u001b[0m\n\u001b[1;32m      9\u001b[0m \u001b[0;34m\u001b[0m\u001b[0m\n",
      "\u001b[0;31mValueError\u001b[0m: invalid literal for int() with base 10: '-f'"
     ]
    }
   ],
   "source": [
    "#!/usr/bin/env python3\n",
    "# -*- coding: utf-8 -*-\n",
    "\n",
    "# usage: ./yakusuu.py 30\n",
    "import sys\n",
    "\n",
    "num = int(sys.argv[1])\n",
    "yakusuu_array = []\n",
    "\n",
    "for i in range(1,num):\n",
    "    if num % i == 0:\n",
    "        yakusuu_array.append(i)\n",
    "\n",
    "print(yakusuu_array)"
   ]
  },
  {
   "cell_type": "code",
   "execution_count": 39,
   "metadata": {},
   "outputs": [
    {
     "name": "stdout",
     "output_type": "stream",
     "text": [
      "105\n"
     ]
    },
    {
     "data": {
      "text/plain": [
       "1"
      ]
     },
     "execution_count": 39,
     "metadata": {},
     "output_type": "execute_result"
    }
   ],
   "source": [
    "import math\n",
    "\n",
    "N = int(input())\n",
    "\n",
    "def make_prime_list(num):\n",
    "    if num < 2:\n",
    "        return []\n",
    "\n",
    "    prime_list = [i for i in range(num + 1)]\n",
    "    prime_list[1] = 0 # 1は素数ではない\n",
    "    num_sqrt = math.sqrt(num)\n",
    "\n",
    "    for prime in prime_list:\n",
    "        if prime == 0:\n",
    "            continue\n",
    "        if prime > num_sqrt:\n",
    "            break\n",
    "\n",
    "        for non_prime in range(2 * prime, num, prime):\n",
    "            prime_list[non_prime] = 0\n",
    "\n",
    "    return [prime for prime in prime_list if prime != 0]\n",
    "\n",
    "def search_divisor_num(num):\n",
    "    if num < 0:\n",
    "        return None\n",
    "    elif num == 1:\n",
    "        return 1\n",
    "    else:\n",
    "        num_sqrt = math.floor(math.sqrt(num))\n",
    "        prime_list = make_prime_list(num_sqrt)\n",
    "\n",
    "        divisor_num = 1\n",
    "        for prime in prime_list:\n",
    "            count = 1\n",
    "            while num % prime == 0:\n",
    "                num //= prime\n",
    "                count += 1\n",
    "            divisor_num *= count\n",
    "\n",
    "        if num != 1:\n",
    "            divisor_num *= 2\n",
    "\n",
    "        return divisor_num\n",
    "\n",
    "\n",
    "list(map(search_divisor_num,list(range(1,N + 1))[:: 2])).count(8)"
   ]
  },
  {
   "cell_type": "code",
   "execution_count": 33,
   "metadata": {},
   "outputs": [
    {
     "data": {
      "text/plain": [
       "8"
      ]
     },
     "execution_count": 33,
     "metadata": {},
     "output_type": "execute_result"
    }
   ],
   "source": [
    "search_divisor_num_1(105)"
   ]
  },
  {
   "cell_type": "code",
   "execution_count": null,
   "metadata": {
    "collapsed": true
   },
   "outputs": [],
   "source": []
  }
 ],
 "metadata": {
  "kernelspec": {
   "display_name": "Python 3",
   "language": "python",
   "name": "python3"
  },
  "language_info": {
   "codemirror_mode": {
    "name": "ipython",
    "version": 3
   },
   "file_extension": ".py",
   "mimetype": "text/x-python",
   "name": "python",
   "nbconvert_exporter": "python",
   "pygments_lexer": "ipython3",
   "version": "3.6.3"
  }
 },
 "nbformat": 4,
 "nbformat_minor": 2
}
