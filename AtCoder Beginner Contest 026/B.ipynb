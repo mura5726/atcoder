{
 "cells": [
  {
   "cell_type": "code",
   "execution_count": 17,
   "metadata": {},
   "outputs": [
    {
     "name": "stdout",
     "output_type": "stream",
     "text": [
      "6\n",
      "15\n",
      "2\n",
      "3\n",
      "7\n",
      "6\n",
      "9\n",
      "508.93800988158\n"
     ]
    }
   ],
   "source": [
    "n=int(input())\n",
    "r=[int(input()) for _ in range(n)]\n",
    "\n",
    "s=sum(list(map(lambda x : x**2, sorted(r,reverse=True)[::2]))) - sum(list(map(lambda x : x**2, sorted(r,reverse=True)[1::2])))\n",
    "\n",
    "print(s*3.14159265359)"
   ]
  },
  {
   "cell_type": "code",
   "execution_count": null,
   "metadata": {
    "collapsed": true
   },
   "outputs": [],
   "source": []
  }
 ],
 "metadata": {
  "kernelspec": {
   "display_name": "Python 3",
   "language": "python",
   "name": "python3"
  },
  "language_info": {
   "codemirror_mode": {
    "name": "ipython",
    "version": 3
   },
   "file_extension": ".py",
   "mimetype": "text/x-python",
   "name": "python",
   "nbconvert_exporter": "python",
   "pygments_lexer": "ipython3",
   "version": "3.6.3"
  }
 },
 "nbformat": 4,
 "nbformat_minor": 2
}
