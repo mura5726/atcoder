{
 "cells": [
  {
   "cell_type": "code",
   "execution_count": 7,
   "metadata": {},
   "outputs": [
    {
     "name": "stdout",
     "output_type": "stream",
     "text": [
      "4 40 60\n",
      "200\n",
      "760\n",
      "3000\n",
      "11960\n",
      "47800\n",
      "191160\n",
      "764600\n",
      "3058360\n",
      "12233400\n",
      "48933560\n"
     ]
    }
   ],
   "source": [
    "r, d, x_init = map(int, input().split())\n",
    "\n",
    "ans = r*x_init - d\n",
    "print(ans)\n",
    "for i in range(1, 10):\n",
    "    ans = r*ans - d\n",
    "    print(ans)"
   ]
  },
  {
   "cell_type": "code",
   "execution_count": null,
   "metadata": {
    "collapsed": true
   },
   "outputs": [],
   "source": []
  }
 ],
 "metadata": {
  "kernelspec": {
   "display_name": "Python 3",
   "language": "python",
   "name": "python3"
  },
  "language_info": {
   "codemirror_mode": {
    "name": "ipython",
    "version": 3
   },
   "file_extension": ".py",
   "mimetype": "text/x-python",
   "name": "python",
   "nbconvert_exporter": "python",
   "pygments_lexer": "ipython3",
   "version": "3.6.3"
  }
 },
 "nbformat": 4,
 "nbformat_minor": 2
}
