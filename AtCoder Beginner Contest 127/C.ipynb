{
 "cells": [
  {
   "cell_type": "code",
   "execution_count": 35,
   "metadata": {},
   "outputs": [
    {
     "name": "stdout",
     "output_type": "stream",
     "text": [
      "100000 1\n",
      "1 100000\n",
      "100000\n"
     ]
    }
   ],
   "source": [
    "import numpy as np\n",
    "n, m = map(int, input().split())\n",
    "v = np.array([0]*(n+1))\n",
    "for _ in range(m):\n",
    "    a,b = map(int, input().split())\n",
    "    v[a:b+1] = v[a:b+1] + 1\n",
    "\n",
    "print(len(v[v == max(v)]))"
   ]
  },
  {
   "cell_type": "code",
   "execution_count": null,
   "metadata": {
    "collapsed": true
   },
   "outputs": [],
   "source": [
    "n, m = map(int, input().split())\n",
    "v = [0]*(n+1)\n",
    "for _ in range(m):\n",
    "    a,b = map(int, input().split())\n",
    "    v[a] = 1\n",
    "    \n",
    "\n",
    "print(len(v[v == max(v)]))"
   ]
  }
 ],
 "metadata": {
  "kernelspec": {
   "display_name": "Python 3",
   "language": "python",
   "name": "python3"
  },
  "language_info": {
   "codemirror_mode": {
    "name": "ipython",
    "version": 3
   },
   "file_extension": ".py",
   "mimetype": "text/x-python",
   "name": "python",
   "nbconvert_exporter": "python",
   "pygments_lexer": "ipython3",
   "version": "3.6.3"
  }
 },
 "nbformat": 4,
 "nbformat_minor": 2
}
