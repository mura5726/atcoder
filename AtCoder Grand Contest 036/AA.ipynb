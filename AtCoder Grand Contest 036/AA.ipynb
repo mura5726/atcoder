{
 "cells": [
  {
   "cell_type": "code",
   "execution_count": 32,
   "metadata": {},
   "outputs": [
    {
     "name": "stdout",
     "output_type": "stream",
     "text": [
      "311114769564041497\n",
      "0 0 1000000000 -564041497 1 311114769\n"
     ]
    }
   ],
   "source": [
    "S=int(input())\n",
    "\n",
    "x1,y1=0,0\n",
    "\n",
    "x2=10**9\n",
    "x3=1\n",
    "\n",
    "y3=S//x2\n",
    "y2=x2*y3-S\n",
    "print(x1,y1,x2,y2,x3,y3)"
   ]
  },
  {
   "cell_type": "code",
   "execution_count": 41,
   "metadata": {},
   "outputs": [
    {
     "data": {
      "text/plain": [
       "311114769564041497"
      ]
     },
     "execution_count": 41,
     "metadata": {},
     "output_type": "execute_result"
    }
   ],
   "source": [
    "abs(x2*y3-x3*y2)"
   ]
  },
  {
   "cell_type": "code",
   "execution_count": 40,
   "metadata": {},
   "outputs": [
    {
     "name": "stdout",
     "output_type": "stream",
     "text": [
      "311114769564041497\n",
      "0 0 557776631 1 525668664 557776631\n"
     ]
    }
   ],
   "source": [
    "import math\n",
    "S=int(input())\n",
    "X1,Y1=0,0\n",
    "X2=math.ceil(math.sqrt(S))\n",
    "Y3=X2\n",
    "Y2=1\n",
    "X3=X2*Y3-S\n",
    "print(X1,Y1,X2,Y2,X3,Y3)"
   ]
  },
  {
   "cell_type": "code",
   "execution_count": null,
   "metadata": {
    "collapsed": true
   },
   "outputs": [],
   "source": []
  }
 ],
 "metadata": {
  "kernelspec": {
   "display_name": "Python 3",
   "language": "python",
   "name": "python3"
  },
  "language_info": {
   "codemirror_mode": {
    "name": "ipython",
    "version": 3
   },
   "file_extension": ".py",
   "mimetype": "text/x-python",
   "name": "python",
   "nbconvert_exporter": "python",
   "pygments_lexer": "ipython3",
   "version": "3.6.3"
  }
 },
 "nbformat": 4,
 "nbformat_minor": 2
}
