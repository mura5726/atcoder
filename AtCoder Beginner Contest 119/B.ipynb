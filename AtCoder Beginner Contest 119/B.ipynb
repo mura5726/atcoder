{
 "cells": [
  {
   "cell_type": "code",
   "execution_count": 2,
   "metadata": {},
   "outputs": [
    {
     "name": "stdout",
     "output_type": "stream",
     "text": [
      "2\n",
      "10000 JPY\n",
      "0.10000000 BTC\n"
     ]
    }
   ],
   "source": [
    "n=int(input())\n",
    "xu=[list(input().split()) for _ in range(n)]"
   ]
  },
  {
   "cell_type": "code",
   "execution_count": 3,
   "metadata": {},
   "outputs": [
    {
     "data": {
      "text/plain": [
       "[['10000', 'JPY'], ['0.10000000', 'BTC']]"
      ]
     },
     "execution_count": 3,
     "metadata": {},
     "output_type": "execute_result"
    }
   ],
   "source": [
    "xu"
   ]
  },
  {
   "cell_type": "code",
   "execution_count": 6,
   "metadata": {},
   "outputs": [
    {
     "name": "stdout",
     "output_type": "stream",
     "text": [
      "2\n",
      "10000 JPY\n",
      "0.10000000 BTC\n"
     ]
    }
   ],
   "source": [
    "n=int(input())\n",
    "ans = 0\n",
    "for _ in range (n):\n",
    "    xu = list(input().split())\n",
    "    if xu[1] == 'BTC':\n",
    "        ans += float(xu[0]) * 380000\n",
    "    else:\n",
    "        ans += int(xu[0])\n",
    "print(ans)"
   ]
  },
  {
   "cell_type": "code",
   "execution_count": 7,
   "metadata": {},
   "outputs": [
    {
     "data": {
      "text/plain": [
       "48000.0"
      ]
     },
     "execution_count": 7,
     "metadata": {},
     "output_type": "execute_result"
    }
   ],
   "source": [
    "ans"
   ]
  },
  {
   "cell_type": "code",
   "execution_count": 8,
   "metadata": {},
   "outputs": [
    {
     "name": "stdout",
     "output_type": "stream",
     "text": [
      "3\n",
      "100000000 JPY\n",
      "100.00000000 BTC\n",
      "0.00000001 BTC\n",
      "138000000.0038\n"
     ]
    }
   ],
   "source": [
    "n=int(input())\n",
    "ans = 0\n",
    "for _ in range (n):\n",
    "    xu = list(input().split())\n",
    "    if xu[1] == 'BTC':\n",
    "        ans += float(xu[0]) * 380000\n",
    "    else:\n",
    "        ans += int(xu[0])\n",
    "print(ans)"
   ]
  },
  {
   "cell_type": "code",
   "execution_count": null,
   "metadata": {
    "collapsed": true
   },
   "outputs": [],
   "source": []
  }
 ],
 "metadata": {
  "kernelspec": {
   "display_name": "Python 3",
   "language": "python",
   "name": "python3"
  },
  "language_info": {
   "codemirror_mode": {
    "name": "ipython",
    "version": 3
   },
   "file_extension": ".py",
   "mimetype": "text/x-python",
   "name": "python",
   "nbconvert_exporter": "python",
   "pygments_lexer": "ipython3",
   "version": "3.6.3"
  }
 },
 "nbformat": 4,
 "nbformat_minor": 2
}
