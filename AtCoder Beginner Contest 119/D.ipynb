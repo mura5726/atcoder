{
 "cells": [
  {
   "cell_type": "code",
   "execution_count": 24,
   "metadata": {},
   "outputs": [
    {
     "name": "stdout",
     "output_type": "stream",
     "text": [
      "2 3 4\n",
      "100\n",
      "600\n",
      "400\n",
      "900\n",
      "1000\n",
      "150\n",
      "2000\n",
      "899\n",
      "799\n",
      "350\n",
      "3400\n",
      "301\n",
      "401\n"
     ]
    }
   ],
   "source": [
    "a,b,q=map(int,input().split())\n",
    "\n",
    "s=[int(input()) for _ in range(a)]\n",
    "t=[int(input()) for _ in range(b)]\n",
    "x=[int(input()) for _ in range(q)]\n",
    "\n",
    "for j in range(q):\n",
    "\n",
    "    s_st = []\n",
    "    for i in range(a):\n",
    "        s_st.append(s[i] - x[j])\n",
    "\n",
    "    t_st = []\n",
    "    for i in range(b):\n",
    "        t_st.append(t[i] - x[j])\n",
    "\n",
    "    smin = s_st[list(map(abs,s_st)).index(min(list(map(abs,s_st))))]\n",
    "\n",
    "    tmin = t_st[list(map(abs,t_st)).index(min(list(map(abs,t_st))))]\n",
    "\n",
    "    if abs(smin) >= abs(tmin):\n",
    "        print(abs(smin) + abs(tmin) * 2)\n",
    "    else:\n",
    "        print(abs(smin) * 2 + abs(tmin))"
   ]
  },
  {
   "cell_type": "code",
   "execution_count": 25,
   "metadata": {},
   "outputs": [
    {
     "data": {
      "text/plain": [
       "[100, 600]"
      ]
     },
     "execution_count": 25,
     "metadata": {},
     "output_type": "execute_result"
    }
   ],
   "source": [
    "s"
   ]
  },
  {
   "cell_type": "code",
   "execution_count": 26,
   "metadata": {},
   "outputs": [
    {
     "data": {
      "text/plain": [
       "[400, 900, 1000]"
      ]
     },
     "execution_count": 26,
     "metadata": {},
     "output_type": "execute_result"
    }
   ],
   "source": [
    "t"
   ]
  },
  {
   "cell_type": "code",
   "execution_count": 27,
   "metadata": {},
   "outputs": [
    {
     "data": {
      "text/plain": [
       "[150, 2000, 899, 799]"
      ]
     },
     "execution_count": 27,
     "metadata": {},
     "output_type": "execute_result"
    }
   ],
   "source": [
    "x"
   ]
  },
  {
   "cell_type": "code",
   "execution_count": null,
   "metadata": {
    "collapsed": true
   },
   "outputs": [],
   "source": []
  }
 ],
 "metadata": {
  "kernelspec": {
   "display_name": "Python 3",
   "language": "python",
   "name": "python3"
  },
  "language_info": {
   "codemirror_mode": {
    "name": "ipython",
    "version": 3
   },
   "file_extension": ".py",
   "mimetype": "text/x-python",
   "name": "python",
   "nbconvert_exporter": "python",
   "pygments_lexer": "ipython3",
   "version": "3.6.3"
  }
 },
 "nbformat": 4,
 "nbformat_minor": 2
}
