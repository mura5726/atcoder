{
 "cells": [
  {
   "cell_type": "code",
   "execution_count": null,
   "metadata": {
    "collapsed": true
   },
   "outputs": [],
   "source": [
    "import numpy as np\n",
    "import functools\n",
    "import math\n",
    "\n",
    "N, X = map(int, input().split())\n",
    "x_list = list(map(int, input().split()))\n",
    "\n",
    "def gcd_1(l):\n",
    "    x = max(l)\n",
    "    y = min(l)\n",
    "    if x % y == 0:\n",
    "        return y\n",
    "    else:\n",
    "        while x%y!=0:\n",
    "            z = x%y\n",
    "            x = y\n",
    "            y = z\n",
    "        else:\n",
    "            return z\n",
    "        \n",
    "if N == 1:\n",
    "    print(x_list[0] - X)\n",
    "    exit()\n",
    "\n",
    "values = np.sort(np.array(x_list))[1:] - min(x_list)\n",
    "\n",
    "if N == 2:\n",
    "    print(values[0])\n",
    "    exit()\n",
    "\n",
    "print(gcd_1(values))\n",
    "\n"
   ]
  },
  {
   "cell_type": "code",
   "execution_count": null,
   "metadata": {
    "collapsed": true
   },
   "outputs": [],
   "source": [
    "import numpy as np\n",
    "import functools\n",
    "import math\n",
    "N, X = map(int, input().split())\n",
    "x_list = list(map(int, input().split()))\n",
    "x_list.append(X)\n",
    "def gcd_1(l):\n",
    "    x = max(l)\n",
    "    y = min(l)\n",
    "    if x % y == 0:\n",
    "        return y\n",
    "    else:\n",
    "        while x%y!=0:\n",
    "            z = x%y\n",
    "            x = y\n",
    "            y = z\n",
    "        else:\n",
    "            return z\n",
    "        \n",
    "\n",
    "\n",
    "values = np.sort(np.array(x_list))[1:] - min(x_list)\n",
    "\n",
    "\n",
    "\n",
    "print(gcd_1(values))\n",
    "\n"
   ]
  },
  {
   "cell_type": "code",
   "execution_count": 6,
   "metadata": {},
   "outputs": [
    {
     "data": {
      "text/plain": [
       "24"
      ]
     },
     "execution_count": 6,
     "metadata": {},
     "output_type": "execute_result"
    }
   ],
   "source": [
    "gcd(values)"
   ]
  },
  {
   "cell_type": "code",
   "execution_count": 1,
   "metadata": {},
   "outputs": [
    {
     "name": "stdout",
     "output_type": "stream",
     "text": [
      "3 3\n",
      "1 7 11\n"
     ]
    }
   ],
   "source": [
    "import numpy as np\n",
    "import functools\n",
    "import math\n",
    "\n",
    "N, X = map(int, input().split())\n",
    "x_list = list(map(int, input().split()))"
   ]
  },
  {
   "cell_type": "code",
   "execution_count": 2,
   "metadata": {
    "collapsed": true
   },
   "outputs": [],
   "source": [
    "x_list.append(X)"
   ]
  },
  {
   "cell_type": "code",
   "execution_count": 3,
   "metadata": {},
   "outputs": [
    {
     "data": {
      "text/plain": [
       "[1, 7, 11, 3]"
      ]
     },
     "execution_count": 3,
     "metadata": {},
     "output_type": "execute_result"
    }
   ],
   "source": [
    "x_list"
   ]
  },
  {
   "cell_type": "code",
   "execution_count": null,
   "metadata": {
    "collapsed": true
   },
   "outputs": [],
   "source": []
  }
 ],
 "metadata": {
  "kernelspec": {
   "display_name": "Python 3",
   "language": "python",
   "name": "python3"
  },
  "language_info": {
   "codemirror_mode": {
    "name": "ipython",
    "version": 3
   },
   "file_extension": ".py",
   "mimetype": "text/x-python",
   "name": "python",
   "nbconvert_exporter": "python",
   "pygments_lexer": "ipython3",
   "version": "3.6.3"
  }
 },
 "nbformat": 4,
 "nbformat_minor": 2
}
