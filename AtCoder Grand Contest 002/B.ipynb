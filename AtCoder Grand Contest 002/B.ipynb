{
 "cells": [
  {
   "cell_type": "code",
   "execution_count": 3,
   "metadata": {},
   "outputs": [
    {
     "name": "stdout",
     "output_type": "stream",
     "text": [
      "3 2\n",
      "1 2\n",
      "2 3\n",
      "2\n"
     ]
    }
   ],
   "source": [
    "N,M=map(int,input().split())\n",
    "flg=[0]*(N+1)\n",
    "flg[1]=1\n",
    "flg2=[1]*(N+1)\n",
    "for _ in range(M):\n",
    "    xy=list(map(int,input().split()))\n",
    "    if flg[xy[0]]==1:\n",
    "        flg[xy[1]]=1\n",
    "    flg2[xy[1]]+=1\n",
    "    flg2[xy[0]]-=1\n",
    "    if flg2[xy[0]]==0:\n",
    "        flg[xy[0]]=0\n",
    "print(sum(map(lambda x:x>0,flg)))"
   ]
  },
  {
   "cell_type": "code",
   "execution_count": 2,
   "metadata": {},
   "outputs": [
    {
     "data": {
      "text/plain": [
       "[0, 0, 1, 0]"
      ]
     },
     "execution_count": 2,
     "metadata": {},
     "output_type": "execute_result"
    }
   ],
   "source": [
    "flg"
   ]
  },
  {
   "cell_type": "code",
   "execution_count": null,
   "metadata": {
    "collapsed": true
   },
   "outputs": [],
   "source": []
  }
 ],
 "metadata": {
  "kernelspec": {
   "display_name": "Python 3",
   "language": "python",
   "name": "python3"
  },
  "language_info": {
   "codemirror_mode": {
    "name": "ipython",
    "version": 3
   },
   "file_extension": ".py",
   "mimetype": "text/x-python",
   "name": "python",
   "nbconvert_exporter": "python",
   "pygments_lexer": "ipython3",
   "version": "3.6.3"
  }
 },
 "nbformat": 4,
 "nbformat_minor": 2
}
