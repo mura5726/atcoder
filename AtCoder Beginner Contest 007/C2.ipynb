{
 "cells": [
  {
   "cell_type": "code",
   "execution_count": null,
   "metadata": {
    "collapsed": true
   },
   "outputs": [],
   "source": [
    "from collections import deque\n",
    "\n",
    "def bfs(maze, visited, sy, sx, gy, gx):\n",
    "    queue = deque([[sy, sx]])\n",
    "    visited[sy][sx] = 0\n",
    "    while queue:\n",
    "        y, x = queue.popleft()\n",
    "        if [y, x] == [gy, gx]:\n",
    "            return visited[y][x]\n",
    "        for j, k in ([1, 0], [-1, 0], [0, 1], [0, -1]):\n",
    "            new_y, new_x = y+j, x+k\n",
    "            if maze[new_y][new_x] == \".\" and \\\n",
    "                visited[new_y][new_x] == -1:\n",
    "                visited[new_y][new_x] = visited[y][x] + 1\n",
    "                queue.append([new_y, new_x])\n",
    "\n",
    "if __name__ == \"__main__\":\n",
    "    R, C = map(int, input().split())\n",
    "    sy, sx = map(int, input().split())\n",
    "    gy, gx = map(int, input().split())\n",
    "    sy, sx, gy, gx = sy-1, sx-1, gy-1, gx-1\n",
    "\n",
    "    maze = [input() for i in range(R)]\n",
    "    visited = [[-1]*C for j in range(R)]\n",
    "    print(bfs(maze, visited, sy, sx, gy, gx))"
   ]
  }
 ],
 "metadata": {
  "kernelspec": {
   "display_name": "Python 3",
   "language": "python",
   "name": "python3"
  },
  "language_info": {
   "codemirror_mode": {
    "name": "ipython",
    "version": 3
   },
   "file_extension": ".py",
   "mimetype": "text/x-python",
   "name": "python",
   "nbconvert_exporter": "python",
   "pygments_lexer": "ipython3",
   "version": "3.6.3"
  }
 },
 "nbformat": 4,
 "nbformat_minor": 2
}
