{
 "cells": [
  {
   "cell_type": "code",
   "execution_count": 18,
   "metadata": {},
   "outputs": [
    {
     "name": "stdout",
     "output_type": "stream",
     "text": [
      "aa aa\n",
      "aa dd\n",
      "You can win\n"
     ]
    }
   ],
   "source": [
    "a=input();b=input();l=[];v='atcoder'\n",
    "for i in range(len(a)):\n",
    "    l.append(1 if a[i]==b[i] else (a[i]=='@' or b[i]=='@')or(a[i]in v or b[i]in v))\n",
    "print('You can win' if sum(l)==len(a) else 'You will lose')"
   ]
  },
  {
   "cell_type": "code",
   "execution_count": 21,
   "metadata": {},
   "outputs": [
    {
     "name": "stdout",
     "output_type": "stream",
     "text": [
      "ch@ku@ai\n",
      "choku@@i\n",
      "You can win\n"
     ]
    }
   ],
   "source": [
    "for i,j in zip(input(),input()):\n",
    "    if i!=j and i+j not in '@a@t@c@o@d@e@r@':\n",
    "        print('You will lose')\n",
    "        break\n",
    "print('You can win')"
   ]
  },
  {
   "cell_type": "code",
   "execution_count": 22,
   "metadata": {},
   "outputs": [
    {
     "name": "stdout",
     "output_type": "stream",
     "text": [
      "arc\n",
      "abc\n",
      "You will lose\n"
     ]
    }
   ],
   "source": [
    "print(all(a==b or a+b in '@a@t@c@o@d@e@r@' for a,b in zip(input(),input())) and 'You can win' or 'You will lose')"
   ]
  },
  {
   "cell_type": "code",
   "execution_count": 24,
   "metadata": {},
   "outputs": [
    {
     "data": {
      "text/plain": [
       "[('A', 'A'), ('B', 'R'), ('C', 'C')]"
      ]
     },
     "execution_count": 24,
     "metadata": {},
     "output_type": "execute_result"
    }
   ],
   "source": [
    "list(zip('ABC','ARC'))"
   ]
  },
  {
   "cell_type": "code",
   "execution_count": 29,
   "metadata": {},
   "outputs": [
    {
     "name": "stdout",
     "output_type": "stream",
     "text": [
      "ARB\n",
      "ARV\n",
      "You will lose\n"
     ]
    }
   ],
   "source": [
    "print(['You will lose','You can win'][all(a==b or a+b in '@a@t@c@o@d@e@r@' for a,b in zip(input(),input()))])"
   ]
  },
  {
   "cell_type": "code",
   "execution_count": 27,
   "metadata": {},
   "outputs": [
    {
     "data": {
      "text/plain": [
       "'Y'"
      ]
     },
     "execution_count": 27,
     "metadata": {},
     "output_type": "execute_result"
    }
   ],
   "source": [
    "True and 'Y' or 'X'"
   ]
  },
  {
   "cell_type": "code",
   "execution_count": null,
   "metadata": {
    "collapsed": true
   },
   "outputs": [],
   "source": [
    "''"
   ]
  }
 ],
 "metadata": {
  "kernelspec": {
   "display_name": "Python 3",
   "language": "python",
   "name": "python3"
  },
  "language_info": {
   "codemirror_mode": {
    "name": "ipython",
    "version": 3
   },
   "file_extension": ".py",
   "mimetype": "text/x-python",
   "name": "python",
   "nbconvert_exporter": "python",
   "pygments_lexer": "ipython3",
   "version": "3.6.3"
  }
 },
 "nbformat": 4,
 "nbformat_minor": 2
}
