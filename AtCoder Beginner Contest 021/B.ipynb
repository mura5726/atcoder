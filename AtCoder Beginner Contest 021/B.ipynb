{
 "cells": [
  {
   "cell_type": "code",
   "execution_count": 9,
   "metadata": {},
   "outputs": [
    {
     "name": "stdout",
     "output_type": "stream",
     "text": [
      "4\n",
      "1 4\n",
      "3\n",
      "2 1 3\n",
      "NO\n"
     ]
    }
   ],
   "source": [
    "n=int(input())\n",
    "a,b=map(int,input().split())\n",
    "k=int(input())\n",
    "p=list(map(int,input().split()))\n",
    "\n",
    "print('YES' if len(set(p))==k and a not in p and b not in p else 'NO')"
   ]
  },
  {
   "cell_type": "code",
   "execution_count": null,
   "metadata": {
    "collapsed": true
   },
   "outputs": [],
   "source": []
  }
 ],
 "metadata": {
  "kernelspec": {
   "display_name": "Python 3",
   "language": "python",
   "name": "python3"
  },
  "language_info": {
   "codemirror_mode": {
    "name": "ipython",
    "version": 3
   },
   "file_extension": ".py",
   "mimetype": "text/x-python",
   "name": "python",
   "nbconvert_exporter": "python",
   "pygments_lexer": "ipython3",
   "version": "3.6.3"
  }
 },
 "nbformat": 4,
 "nbformat_minor": 2
}
