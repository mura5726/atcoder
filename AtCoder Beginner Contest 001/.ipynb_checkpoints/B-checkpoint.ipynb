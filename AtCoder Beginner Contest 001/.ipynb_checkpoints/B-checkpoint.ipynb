{
 "cells": [
  {
   "cell_type": "code",
   "execution_count": 21,
   "metadata": {},
   "outputs": [
    {
     "name": "stdout",
     "output_type": "stream",
     "text": [
      "2000\n",
      "20\n"
     ]
    }
   ],
   "source": [
    "m=int(input())\n",
    "\n",
    "if m<100:\n",
    "    print('00')\n",
    "elif m>=100 and m<=5000:\n",
    "    print('0'+str(m//100) if m<1000 else str(m//100))\n",
    "elif m>=6000 and m<=30000:\n",
    "    print(str(m//1000+50))\n",
    "elif m>=35000 and m<= 70000:\n",
    "    print(str((m//1000-30)//5+80))\n",
    "elif m>70000:\n",
    "    print('89')"
   ]
  }
 ],
 "metadata": {
  "kernelspec": {
   "display_name": "Python 3",
   "language": "python",
   "name": "python3"
  },
  "language_info": {
   "codemirror_mode": {
    "name": "ipython",
    "version": 3
   },
   "file_extension": ".py",
   "mimetype": "text/x-python",
   "name": "python",
   "nbconvert_exporter": "python",
   "pygments_lexer": "ipython3",
   "version": "3.6.3"
  }
 },
 "nbformat": 4,
 "nbformat_minor": 2
}
