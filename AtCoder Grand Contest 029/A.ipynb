{
 "cells": [
  {
   "cell_type": "code",
   "execution_count": 78,
   "metadata": {},
   "outputs": [
    {
     "name": "stdout",
     "output_type": "stream",
     "text": [
      "BWBWBW\n",
      "6\n"
     ]
    }
   ],
   "source": [
    "S = list(str(input()))\n",
    "\n",
    "ans = 0\n",
    "cnt = 0\n",
    "for i in range(len(S)-1):\n",
    "    if S[i] == \"B\" and S[i+1] == \"W\":\n",
    "        S[i+1] = \"B\"\n",
    "        ans = ans + i + 1\n",
    "        cnt = cnt + 1 \n",
    "\n",
    "print(ans - cnt)"
   ]
  },
  {
   "cell_type": "code",
   "execution_count": 95,
   "metadata": {},
   "outputs": [
    {
     "name": "stdout",
     "output_type": "stream",
     "text": [
      "BBw\n",
      "3\n"
     ]
    }
   ],
   "source": [
    "def comsum(x):\n",
    "    return(sum(list(range(1,x+1))))\n",
    "\n",
    "S = str(input())\n",
    "\n",
    "print(comsum(S.count('B')))"
   ]
  },
  {
   "cell_type": "code",
   "execution_count": 103,
   "metadata": {},
   "outputs": [
    {
     "name": "stdout",
     "output_type": "stream",
     "text": [
      "BWBWBW\n",
      "0\n"
     ]
    }
   ],
   "source": [
    "S = str(input())\n",
    "ans = 0\n",
    "for i in range(len(S)):\n",
    "    if S[i] == 'W':\n",
    "        ans += 1\n",
    "print(ans - sum(range(S.count('W'))))"
   ]
  },
  {
   "cell_type": "code",
   "execution_count": 93,
   "metadata": {},
   "outputs": [],
   "source": [
    "def comsum(x):\n",
    "    return(sum(list(range(1,x+1))))"
   ]
  },
  {
   "cell_type": "code",
   "execution_count": 94,
   "metadata": {},
   "outputs": [
    {
     "data": {
      "text/plain": [
       "6"
      ]
     },
     "execution_count": 94,
     "metadata": {},
     "output_type": "execute_result"
    }
   ],
   "source": [
    "comsum(3)"
   ]
  },
  {
   "cell_type": "code",
   "execution_count": 91,
   "metadata": {},
   "outputs": [
    {
     "data": {
      "text/plain": [
       "[1, 2]"
      ]
     },
     "execution_count": 91,
     "metadata": {},
     "output_type": "execute_result"
    }
   ],
   "source": [
    "list(range(1,3))"
   ]
  },
  {
   "cell_type": "code",
   "execution_count": null,
   "metadata": {
    "collapsed": true
   },
   "outputs": [],
   "source": []
  }
 ],
 "metadata": {
  "kernelspec": {
   "display_name": "Python 3",
   "language": "python",
   "name": "python3"
  },
  "language_info": {
   "codemirror_mode": {
    "name": "ipython",
    "version": 3
   },
   "file_extension": ".py",
   "mimetype": "text/x-python",
   "name": "python",
   "nbconvert_exporter": "python",
   "pygments_lexer": "ipython3",
   "version": "3.6.3"
  }
 },
 "nbformat": 4,
 "nbformat_minor": 2
}
