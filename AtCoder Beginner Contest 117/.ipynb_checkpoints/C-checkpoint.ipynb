{
 "cells": [
  {
   "cell_type": "code",
   "execution_count": null,
   "metadata": {
    "collapsed": true
   },
   "outputs": [],
   "source": [
    "import numpy as np\n",
    "\n",
    "n,m=map(int,input().split())\n",
    "x=list(map(int,input().split()))\n",
    "n = min(n,len(x))\n",
    "\n",
    "xs=sorted(x)\n",
    "# xs\n",
    "\n",
    "# def sabun(x,i):\n",
    "#     return x[i+1]-x[i]\n",
    "\n",
    "def sabun(x):\n",
    "    a=np.array(x)\n",
    "    return list(a[1:]-a[:-1])\n",
    "\n",
    "# sabunx=[sabun(xs,i) for i in range(m-1)]\n",
    "\n",
    "sabunx=sabun(xs)\n",
    "# sabunx\n",
    "\n",
    "print(sum(sorted(sabunx,reverse=True)[n-1:]))"
   ]
  }
 ],
 "metadata": {
  "kernelspec": {
   "display_name": "Python 3",
   "language": "python",
   "name": "python3"
  },
  "language_info": {
   "codemirror_mode": {
    "name": "ipython",
    "version": 3
   },
   "file_extension": ".py",
   "mimetype": "text/x-python",
   "name": "python",
   "nbconvert_exporter": "python",
   "pygments_lexer": "ipython3",
   "version": "3.6.3"
  }
 },
 "nbformat": 4,
 "nbformat_minor": 2
}
