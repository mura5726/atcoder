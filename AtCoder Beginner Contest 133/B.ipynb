{
 "cells": [
  {
   "cell_type": "code",
   "execution_count": 1,
   "metadata": {},
   "outputs": [
    {
     "name": "stdout",
     "output_type": "stream",
     "text": [
      "3 2\n",
      "1 2\n",
      "5 5\n",
      "-2 8\n"
     ]
    }
   ],
   "source": [
    "N,D=map(int,input().split())\n",
    "X=[]\n",
    "for _ in range(N):\n",
    "    X.append(list(map(int,input().split())))\n",
    "\n",
    "arr=[]\n",
    "for i in range(N):\n",
    "    for j in range(N):\n",
    "        if i < j:\n",
    "            dist_l=[]\n",
    "            for d in range(D):\n",
    "                dist_l.append((X[i][d]-X[j][d])**2)\n",
    "            arr.append(sum(dist_l)**(1/2))\n",
    "\n",
    "print(sum(list(map(lambda x: x%1==0,arr))))"
   ]
  },
  {
   "cell_type": "code",
   "execution_count": 8,
   "metadata": {},
   "outputs": [
    {
     "data": {
      "text/plain": [
       "0.7082039324993694"
      ]
     },
     "execution_count": 8,
     "metadata": {},
     "output_type": "execute_result"
    }
   ],
   "source": [
    "6.708203932499369 % 1"
   ]
  },
  {
   "cell_type": "code",
   "execution_count": null,
   "metadata": {
    "collapsed": true
   },
   "outputs": [],
   "source": []
  }
 ],
 "metadata": {
  "kernelspec": {
   "display_name": "Python 3",
   "language": "python",
   "name": "python3"
  },
  "language_info": {
   "codemirror_mode": {
    "name": "ipython",
    "version": 3
   },
   "file_extension": ".py",
   "mimetype": "text/x-python",
   "name": "python",
   "nbconvert_exporter": "python",
   "pygments_lexer": "ipython3",
   "version": "3.6.3"
  }
 },
 "nbformat": 4,
 "nbformat_minor": 2
}
