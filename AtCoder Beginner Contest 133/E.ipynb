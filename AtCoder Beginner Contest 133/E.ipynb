{
 "cells": [
  {
   "cell_type": "code",
   "execution_count": 14,
   "metadata": {},
   "outputs": [
    {
     "name": "stdout",
     "output_type": "stream",
     "text": [
      "5 4\n",
      "1 2\n",
      "1 3\n",
      "1 4\n",
      "4 5\n",
      "14\n"
     ]
    }
   ],
   "source": [
    "N,K=map(int,input().split())\n",
    "\n",
    "MOD = 10 ** 9 + 7\n",
    "G = [[] for i in range(N)]\n",
    "for i in range(N - 1):\n",
    "    a, b = map(int, input().split())\n",
    "    a, b = a - 1, b - 1\n",
    "    G[a].append(b)\n",
    "    G[b].append(a)\n",
    "dp = [[0] * 2 for i in range(N)]\n",
    "dp[0][1] = dp[0][0] = 1\n",
    " \n",
    " \n",
    "def dfs(u, p):\n",
    "    B, W = 1, 1\n",
    "    for v in G[u]:\n",
    "        if v == p:\n",
    "            continue\n",
    "        dfs(v, u)\n",
    " \n",
    "        B = B * dp[v][0]\n",
    "        B %= MOD\n",
    "        W = W * (dp[v][0] + dp[v][1])\n",
    "        W %= MOD\n",
    " \n",
    "    dp[u][0] = W\n",
    "    dp[u][1] = B\n",
    " \n",
    " \n",
    "dfs(0, -1)\n",
    "print((dp[0][1] + dp[0][0]) % MOD)"
   ]
  },
  {
   "cell_type": "code",
   "execution_count": 13,
   "metadata": {},
   "outputs": [
    {
     "data": {
      "text/plain": [
       "256"
      ]
     },
     "execution_count": 13,
     "metadata": {},
     "output_type": "execute_result"
    }
   ],
   "source": [
    "K**K"
   ]
  },
  {
   "cell_type": "code",
   "execution_count": 15,
   "metadata": {},
   "outputs": [
    {
     "data": {
      "text/plain": [
       "[[12, 2], [1, 1], [1, 1], [2, 1], [1, 1]]"
      ]
     },
     "execution_count": 15,
     "metadata": {},
     "output_type": "execute_result"
    }
   ],
   "source": [
    "dp"
   ]
  },
  {
   "cell_type": "code",
   "execution_count": null,
   "metadata": {
    "collapsed": true
   },
   "outputs": [],
   "source": []
  }
 ],
 "metadata": {
  "kernelspec": {
   "display_name": "Python 3",
   "language": "python",
   "name": "python3"
  },
  "language_info": {
   "codemirror_mode": {
    "name": "ipython",
    "version": 3
   },
   "file_extension": ".py",
   "mimetype": "text/x-python",
   "name": "python",
   "nbconvert_exporter": "python",
   "pygments_lexer": "ipython3",
   "version": "3.6.3"
  }
 },
 "nbformat": 4,
 "nbformat_minor": 2
}
