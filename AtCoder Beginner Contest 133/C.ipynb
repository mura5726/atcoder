{
 "cells": [
  {
   "cell_type": "code",
   "execution_count": 34,
   "metadata": {},
   "outputs": [
    {
     "name": "stdout",
     "output_type": "stream",
     "text": [
      "2 2018\n",
      "0\n",
      "s2\n"
     ]
    }
   ],
   "source": [
    "L,R=map(int,input().split())\n",
    "if L//2019<R//2019 or L%2019==0 or R%2019==0:\n",
    "    print(0)\n",
    "#     print(\"s1\")\n",
    "elif (L//673<R//673 and L//3<R//3) or (L%3==0 and R%673==0) or (L%673==0 and R%3==0):\n",
    "    print(0)\n",
    "#     print(\"s2\")\n",
    "else:\n",
    "    l=list(range(L,R+1))\n",
    "    arr=[]\n",
    "    for i in range(len(l)):\n",
    "        for j in range(len(l)):\n",
    "            if i < j:\n",
    "                arr.append(l[i]*l[j]%2019)\n",
    "    print(min(arr))"
   ]
  },
  {
   "cell_type": "code",
   "execution_count": 27,
   "metadata": {},
   "outputs": [],
   "source": []
  },
  {
   "cell_type": "code",
   "execution_count": 31,
   "metadata": {},
   "outputs": [
    {
     "data": {
      "text/plain": [
       "[673, 674, 675]"
      ]
     },
     "execution_count": 31,
     "metadata": {},
     "output_type": "execute_result"
    }
   ],
   "source": [
    "list(range(L,R+1))"
   ]
  },
  {
   "cell_type": "code",
   "execution_count": 26,
   "metadata": {},
   "outputs": [
    {
     "data": {
      "text/plain": [
       "4000000"
      ]
     },
     "execution_count": 26,
     "metadata": {},
     "output_type": "execute_result"
    }
   ],
   "source": [
    "2000*2000"
   ]
  },
  {
   "cell_type": "code",
   "execution_count": null,
   "metadata": {
    "collapsed": true
   },
   "outputs": [],
   "source": []
  }
 ],
 "metadata": {
  "kernelspec": {
   "display_name": "Python 3",
   "language": "python",
   "name": "python3"
  },
  "language_info": {
   "codemirror_mode": {
    "name": "ipython",
    "version": 3
   },
   "file_extension": ".py",
   "mimetype": "text/x-python",
   "name": "python",
   "nbconvert_exporter": "python",
   "pygments_lexer": "ipython3",
   "version": "3.6.3"
  }
 },
 "nbformat": 4,
 "nbformat_minor": 2
}
