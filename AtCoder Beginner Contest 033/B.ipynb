{
 "cells": [
  {
   "cell_type": "code",
   "execution_count": 3,
   "metadata": {},
   "outputs": [
    {
     "name": "stdout",
     "output_type": "stream",
     "text": [
      "4\n",
      "unagi 20\n",
      "usagi 13\n",
      "usagi 13\n",
      "usagi 13\n"
     ]
    }
   ],
   "source": [
    "N=int(input())\n",
    "\n",
    "SP=[]\n",
    "for _ in range(N):\n",
    "    SP.append(input().split())\n",
    "\n",
    "S=sum(map(int,list(map(lambda x:x[1],SP))))\n",
    "TF=list(map(lambda y:int(y)>S/2,map(lambda x:x[1],SP)))\n",
    "if any(TF):\n",
    "    e=0\n",
    "    for t in TF:\n",
    "        if t==True:\n",
    "            print(SP[e][0])\n",
    "        e+=1   \n",
    "else:\n",
    "    print(\"atcoder\")"
   ]
  },
  {
   "cell_type": "code",
   "execution_count": null,
   "metadata": {
    "collapsed": true
   },
   "outputs": [],
   "source": []
  }
 ],
 "metadata": {
  "kernelspec": {
   "display_name": "Python 3",
   "language": "python",
   "name": "python3"
  },
  "language_info": {
   "codemirror_mode": {
    "name": "ipython",
    "version": 3
   },
   "file_extension": ".py",
   "mimetype": "text/x-python",
   "name": "python",
   "nbconvert_exporter": "python",
   "pygments_lexer": "ipython3",
   "version": "3.6.3"
  }
 },
 "nbformat": 4,
 "nbformat_minor": 2
}
