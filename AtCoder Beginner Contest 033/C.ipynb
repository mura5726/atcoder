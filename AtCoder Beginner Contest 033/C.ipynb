{
 "cells": [
  {
   "cell_type": "code",
   "execution_count": 7,
   "metadata": {},
   "outputs": [
    {
     "name": "stdout",
     "output_type": "stream",
     "text": [
      "0+0+2*0\n",
      "0\n"
     ]
    }
   ],
   "source": [
    "S=input()\n",
    "print(S.count('+')+1-S.count('0'))\n",
    "\n",
    "if S.count('+')>0:\n",
    "    SS=S.split('+')\n",
    "\n",
    "    print(sum(map(lambda x:x>0,list(map(eval,SS)))))\n",
    "else:\n",
    "    if eval(S)==0:\n",
    "        print(0)\n",
    "    else:\n",
    "        print(1)"
   ]
  },
  {
   "cell_type": "code",
   "execution_count": 14,
   "metadata": {},
   "outputs": [
    {
     "name": "stdout",
     "output_type": "stream",
     "text": [
      "3*1*4+0+2*0+5*2+9*8*6+1+3\n",
      "5\n"
     ]
    }
   ],
   "source": [
    "S=input()\n",
    "print(S.count('+')+1-sum(map(lambda x:x.count('0')>0,S.split('+'))))"
   ]
  },
  {
   "cell_type": "code",
   "execution_count": null,
   "metadata": {
    "collapsed": true
   },
   "outputs": [],
   "source": []
  }
 ],
 "metadata": {
  "kernelspec": {
   "display_name": "Python 3",
   "language": "python",
   "name": "python3"
  },
  "language_info": {
   "codemirror_mode": {
    "name": "ipython",
    "version": 3
   },
   "file_extension": ".py",
   "mimetype": "text/x-python",
   "name": "python",
   "nbconvert_exporter": "python",
   "pygments_lexer": "ipython3",
   "version": "3.6.3"
  }
 },
 "nbformat": 4,
 "nbformat_minor": 2
}
