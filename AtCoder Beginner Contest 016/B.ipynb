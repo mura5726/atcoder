{
 "cells": [
  {
   "cell_type": "code",
   "execution_count": 7,
   "metadata": {},
   "outputs": [
    {
     "name": "stdout",
     "output_type": "stream",
     "text": [
      "1 1 1\n",
      "!\n"
     ]
    }
   ],
   "source": [
    "a,b,c=map(int,input().split())\n",
    "f=[]\n",
    "\n",
    "if a+b == c:\n",
    "    f.append(1)\n",
    "else:\n",
    "    f.append(0)\n",
    "\n",
    "if a-b == c:\n",
    "    f.append(1)\n",
    "else:\n",
    "    f.append(0)\n",
    "\n",
    "if all(f):\n",
    "    print('?')\n",
    "elif not any(f):\n",
    "    print('!')\n",
    "elif f[0]:\n",
    "    print('+')\n",
    "else:\n",
    "    print('-')"
   ]
  },
  {
   "cell_type": "code",
   "execution_count": null,
   "metadata": {
    "collapsed": true
   },
   "outputs": [],
   "source": []
  }
 ],
 "metadata": {
  "kernelspec": {
   "display_name": "Python 3",
   "language": "python",
   "name": "python3"
  },
  "language_info": {
   "codemirror_mode": {
    "name": "ipython",
    "version": 3
   },
   "file_extension": ".py",
   "mimetype": "text/x-python",
   "name": "python",
   "nbconvert_exporter": "python",
   "pygments_lexer": "ipython3",
   "version": "3.6.3"
  }
 },
 "nbformat": 4,
 "nbformat_minor": 2
}
