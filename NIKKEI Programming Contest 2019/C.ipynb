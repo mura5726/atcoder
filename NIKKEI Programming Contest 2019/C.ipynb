{
 "cells": [
  {
   "cell_type": "code",
   "execution_count": 71,
   "metadata": {},
   "outputs": [
    {
     "name": "stdout",
     "output_type": "stream",
     "text": [
      "3\n",
      "10 20\n",
      "20 20\n",
      "30 20\n"
     ]
    }
   ],
   "source": [
    "n=int(input())\n",
    "ab=[list(map(int,input().split())) for i in range(n)]\n",
    "\n",
    "A=list(map(lambda x:x[0], ab))\n",
    "\n",
    "B=list(map(lambda x:x[1], ab))\n",
    "\n",
    "# A.sort(reverse=True)\n",
    "# B.sort(reverse=True)"
   ]
  },
  {
   "cell_type": "code",
   "execution_count": 61,
   "metadata": {},
   "outputs": [
    {
     "name": "stdout",
     "output_type": "stream",
     "text": [
      "20\n"
     ]
    }
   ],
   "source": [
    "# import pandas as pd\n",
    "\n",
    "# pd_ab=pd.DataFrame(ab)\n",
    "\n",
    "# pd_ab_sorted=pd_ab.sort_values(0, ascending=False)\n",
    "\n",
    "# # list(pd_ab_sorted[0])[::2]\n",
    "\n",
    "# # list(pd_ab_sorted[1])[1::2]\n",
    "\n",
    "# print(sum(list(pd_ab_sorted[0])[::2])-sum(list(pd_ab_sorted[1])[1::2]))"
   ]
  },
  {
   "cell_type": "code",
   "execution_count": 76,
   "metadata": {},
   "outputs": [],
   "source": [
    "diff_ab = list(map(lambda x: x[0]-x[1], ab))"
   ]
  },
  {
   "cell_type": "code",
   "execution_count": 78,
   "metadata": {},
   "outputs": [
    {
     "data": {
      "text/plain": [
       "[-10, 0, 10]"
      ]
     },
     "execution_count": 78,
     "metadata": {},
     "output_type": "execute_result"
    }
   ],
   "source": [
    "diff_ab"
   ]
  },
  {
   "cell_type": "code",
   "execution_count": 83,
   "metadata": {},
   "outputs": [
    {
     "name": "stdout",
     "output_type": "stream",
     "text": [
      "30\n",
      "20\n",
      "10\n"
     ]
    }
   ],
   "source": [
    "A_index_list=[]\n",
    "B_index_list=[]\n",
    "for i in range(n):\n",
    "    A_index_list.append(A[diff_ab.index(sorted(diff_ab,reverse=True)[i])])\n",
    "#     index_list.append(diff_ab.index(sorted(diff_ab,reverse=True)[i]))\n",
    "    \n"
   ]
  },
  {
   "cell_type": "code",
   "execution_count": 82,
   "metadata": {},
   "outputs": [
    {
     "data": {
      "text/plain": [
       "[2, 1, 0]"
      ]
     },
     "execution_count": 82,
     "metadata": {},
     "output_type": "execute_result"
    }
   ],
   "source": [
    "index_list"
   ]
  },
  {
   "cell_type": "code",
   "execution_count": 68,
   "metadata": {},
   "outputs": [],
   "source": [
    "A_sort.sort(reverse=True)"
   ]
  },
  {
   "cell_type": "code",
   "execution_count": 69,
   "metadata": {},
   "outputs": [
    {
     "data": {
      "text/plain": [
       "[20, 20, 20]"
      ]
     },
     "execution_count": 69,
     "metadata": {},
     "output_type": "execute_result"
    }
   ],
   "source": [
    "A"
   ]
  },
  {
   "cell_type": "code",
   "execution_count": null,
   "metadata": {
    "collapsed": true
   },
   "outputs": [],
   "source": []
  }
 ],
 "metadata": {
  "kernelspec": {
   "display_name": "Python 3",
   "language": "python",
   "name": "python3"
  },
  "language_info": {
   "codemirror_mode": {
    "name": "ipython",
    "version": 3
   },
   "file_extension": ".py",
   "mimetype": "text/x-python",
   "name": "python",
   "nbconvert_exporter": "python",
   "pygments_lexer": "ipython3",
   "version": "3.6.3"
  }
 },
 "nbformat": 4,
 "nbformat_minor": 2
}
