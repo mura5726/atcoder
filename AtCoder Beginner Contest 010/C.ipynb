{
 "cells": [
  {
   "cell_type": "code",
   "execution_count": 25,
   "metadata": {},
   "outputs": [
    {
     "name": "stdout",
     "output_type": "stream",
     "text": [
      "7 7 1 1 3 4\n",
      "3\n",
      "8 1\n",
      "1 7\n",
      "9 9\n"
     ]
    }
   ],
   "source": [
    "txa,tya,txb,tyb,t,v=map(int,input().split())\n",
    "n=int(input())\n",
    "s=[list(map(int,input().split())) for _ in range(n)]\n",
    "\n",
    "def distance1(s1,x=txa,y=tya):\n",
    "    return(((s1[0]-x)**2+(s1[1]-y)**2)**(1/2))\n",
    "def distance2(s1,x=txb,y=tyb):\n",
    "    return(((s1[0]-x)**2+(s1[1]-y)**2)**(1/2))\n",
    "\n",
    "print(['NO','YES'][any(list(map(lambda x:(distance1(x)+distance2(x))<=t*v,s)))])"
   ]
  },
  {
   "cell_type": "code",
   "execution_count": 21,
   "metadata": {},
   "outputs": [
    {
     "data": {
      "text/plain": [
       "[[4, 5]]"
      ]
     },
     "execution_count": 21,
     "metadata": {},
     "output_type": "execute_result"
    }
   ],
   "source": []
  },
  {
   "cell_type": "code",
   "execution_count": null,
   "metadata": {
    "collapsed": true
   },
   "outputs": [],
   "source": []
  }
 ],
 "metadata": {
  "kernelspec": {
   "display_name": "Python 3",
   "language": "python",
   "name": "python3"
  },
  "language_info": {
   "codemirror_mode": {
    "name": "ipython",
    "version": 3
   },
   "file_extension": ".py",
   "mimetype": "text/x-python",
   "name": "python",
   "nbconvert_exporter": "python",
   "pygments_lexer": "ipython3",
   "version": "3.6.3"
  }
 },
 "nbformat": 4,
 "nbformat_minor": 2
}
