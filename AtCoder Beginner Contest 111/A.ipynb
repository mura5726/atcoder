{
 "cells": [
  {
   "cell_type": "code",
   "execution_count": 18,
   "metadata": {},
   "outputs": [
    {
     "name": "stdout",
     "output_type": "stream",
     "text": [
      "991\n",
      "119\n"
     ]
    }
   ],
   "source": [
    "n = int(input())\n",
    "\n",
    "nl = list(str(n))\n",
    "\n",
    "for i in range(len(nl)):\n",
    "    if nl[i] == '9':\n",
    "        nl[i] = '1'\n",
    "    elif nl[i] == '1':\n",
    "        nl[i] = '9'\n",
    "\n",
    "print(int(''.join(nl)))"
   ]
  },
  {
   "cell_type": "code",
   "execution_count": null,
   "metadata": {
    "collapsed": true
   },
   "outputs": [],
   "source": []
  }
 ],
 "metadata": {
  "kernelspec": {
   "display_name": "Python 3",
   "language": "python",
   "name": "python3"
  },
  "language_info": {
   "codemirror_mode": {
    "name": "ipython",
    "version": 3
   },
   "file_extension": ".py",
   "mimetype": "text/x-python",
   "name": "python",
   "nbconvert_exporter": "python",
   "pygments_lexer": "ipython3",
   "version": "3.6.3"
  }
 },
 "nbformat": 4,
 "nbformat_minor": 2
}
