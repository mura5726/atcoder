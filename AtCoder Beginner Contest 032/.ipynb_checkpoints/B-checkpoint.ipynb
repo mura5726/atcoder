{
 "cells": [
  {
   "cell_type": "code",
   "execution_count": 8,
   "metadata": {},
   "outputs": [
    {
     "name": "stdout",
     "output_type": "stream",
     "text": [
      "hello\n",
      "10\n",
      "0\n"
     ]
    }
   ],
   "source": [
    "s=input()\n",
    "k=int(input())\n",
    "if len(s)<k:\n",
    "    print(0)\n",
    "else:\n",
    "    ans=[]\n",
    "    for i in range(0,len(s)):\n",
    "        ans.append(s[i:i+k])\n",
    "    print(len(set(ans))-1)"
   ]
  },
  {
   "cell_type": "code",
   "execution_count": null,
   "metadata": {
    "collapsed": true
   },
   "outputs": [],
   "source": []
  }
 ],
 "metadata": {
  "kernelspec": {
   "display_name": "Python 3",
   "language": "python",
   "name": "python3"
  },
  "language_info": {
   "codemirror_mode": {
    "name": "ipython",
    "version": 3
   },
   "file_extension": ".py",
   "mimetype": "text/x-python",
   "name": "python",
   "nbconvert_exporter": "python",
   "pygments_lexer": "ipython3",
   "version": "3.6.3"
  }
 },
 "nbformat": 4,
 "nbformat_minor": 2
}
