{
 "cells": [
  {
   "cell_type": "code",
<<<<<<< HEAD
   "execution_count": 3,
   "metadata": {},
   "outputs": [
    {
     "name": "stdout",
     "output_type": "stream",
     "text": [
      "1000 1234000\n"
     ]
    },
    {
     "ename": "KeyboardInterrupt",
     "evalue": "",
     "output_type": "error",
     "traceback": [
      "\u001b[0;31m---------------------------------------------------------------------------\u001b[0m",
      "\u001b[0;31mKeyboardInterrupt\u001b[0m                         Traceback (most recent call last)",
      "\u001b[0;32m<ipython-input-3-b7f9ea7879b2>\u001b[0m in \u001b[0;36m<module>\u001b[0;34m()\u001b[0m\n\u001b[1;32m      4\u001b[0m     \u001b[0;32mfor\u001b[0m \u001b[0mj\u001b[0m \u001b[0;32min\u001b[0m \u001b[0mrange\u001b[0m\u001b[0;34m(\u001b[0m\u001b[0mN\u001b[0m\u001b[0;34m+\u001b[0m\u001b[0;36m1\u001b[0m\u001b[0;34m)\u001b[0m\u001b[0;34m:\u001b[0m\u001b[0;34m\u001b[0m\u001b[0m\n\u001b[1;32m      5\u001b[0m         \u001b[0;32mfor\u001b[0m \u001b[0mk\u001b[0m \u001b[0;32min\u001b[0m \u001b[0mrange\u001b[0m\u001b[0;34m(\u001b[0m\u001b[0mN\u001b[0m\u001b[0;34m+\u001b[0m\u001b[0;36m1\u001b[0m\u001b[0;34m)\u001b[0m\u001b[0;34m:\u001b[0m\u001b[0;34m\u001b[0m\u001b[0m\n\u001b[0;32m----> 6\u001b[0;31m             \u001b[0;32mif\u001b[0m \u001b[0;36m10000\u001b[0m \u001b[0;34m*\u001b[0m \u001b[0mi\u001b[0m \u001b[0;34m+\u001b[0m \u001b[0;36m5000\u001b[0m \u001b[0;34m*\u001b[0m \u001b[0mj\u001b[0m \u001b[0;34m+\u001b[0m \u001b[0;36m1000\u001b[0m \u001b[0;34m*\u001b[0m \u001b[0mk\u001b[0m \u001b[0;34m==\u001b[0m \u001b[0mY\u001b[0m \u001b[0;32mand\u001b[0m \u001b[0mi\u001b[0m \u001b[0;34m+\u001b[0m \u001b[0mj\u001b[0m \u001b[0;34m+\u001b[0m \u001b[0mk\u001b[0m \u001b[0;34m<=\u001b[0m \u001b[0;36m20\u001b[0m\u001b[0;34m:\u001b[0m\u001b[0;34m\u001b[0m\u001b[0m\n\u001b[0m\u001b[1;32m      7\u001b[0m                 \u001b[0mprint\u001b[0m\u001b[0;34m(\u001b[0m\u001b[0mstr\u001b[0m\u001b[0;34m(\u001b[0m\u001b[0mi\u001b[0m\u001b[0;34m)\u001b[0m \u001b[0;34m+\u001b[0m \u001b[0;34m\" \"\u001b[0m \u001b[0;34m+\u001b[0m \u001b[0mstr\u001b[0m\u001b[0;34m(\u001b[0m\u001b[0mj\u001b[0m\u001b[0;34m)\u001b[0m \u001b[0;34m+\u001b[0m \u001b[0;34m\" \"\u001b[0m \u001b[0;34m+\u001b[0m \u001b[0mstr\u001b[0m\u001b[0;34m(\u001b[0m\u001b[0mk\u001b[0m\u001b[0;34m)\u001b[0m\u001b[0;34m)\u001b[0m\u001b[0;34m\u001b[0m\u001b[0m\n\u001b[1;32m      8\u001b[0m                 \u001b[0mcnt\u001b[0m \u001b[0;34m+=\u001b[0m \u001b[0;36m1\u001b[0m\u001b[0;34m\u001b[0m\u001b[0m\n",
      "\u001b[0;31mKeyboardInterrupt\u001b[0m: "
     ]
    }
   ],
   "source": [
    "N, Y = list(map(int, input().split()))\n",
    "cnt = 0\n",
    "for i in range(N+1):\n",
    "    for j in range(N+1):\n",
    "        for k in range(N+1):\n",
    "            if 10000 * i + 5000 * j + 1000 * k == Y and i + j + k <= 20:\n",
    "                print(str(i) + \" \" + str(j) + \" \" + str(k))\n",
    "                cnt += 1\n",
    "                break\n",
    "        else:\n",
    "            continue\n",
    "        break\n",
    "    else:\n",
    "        continue\n",
    "    break\n",
    "if cnt == 0:\n",
    "    print(str(-1) + \" \" + str(-1) + \" \" + str(-1))"
   ]
  },
  {
   "cell_type": "code",
   "execution_count": 4,
   "metadata": {},
   "outputs": [
    {
     "data": {
      "text/plain": [
       "0"
      ]
     },
     "execution_count": 4,
     "metadata": {},
     "output_type": "execute_result"
    }
   ],
   "source": [
    "cnt"
   ]
  },
  {
   "cell_type": "code",
   "execution_count": 5,
=======
   "execution_count": 2,
>>>>>>> origin/windows
   "metadata": {},
   "outputs": [
    {
     "name": "stdout",
     "output_type": "stream",
     "text": [
      "9 45000\n"
     ]
    }
   ],
   "source": [
<<<<<<< HEAD
    "N, Y = list(map(int, input().split()))\n",
    "cnt = 0"
=======
    "N, Y = list(map(int, input().split()))"
>>>>>>> origin/windows
   ]
  },
  {
   "cell_type": "code",
<<<<<<< HEAD
   "execution_count": 26,
=======
   "execution_count": 1,
>>>>>>> origin/windows
   "metadata": {},
   "outputs": [
    {
     "name": "stdout",
     "output_type": "stream",
     "text": [
      "9 45000\n",
<<<<<<< HEAD
      "0 9 0\n",
      "4 0 5\n"
=======
      "0 8 5\n"
>>>>>>> origin/windows
     ]
    }
   ],
   "source": [
    "N, Y = list(map(int, input().split()))\n",
    "cnt = 0\n",
<<<<<<< HEAD
    "\n",
    "for j in range(0, N + 1):\n",
    "    for i in range(0, N + 1 - j):\n",
    "        A = N - list(range(0, N + 1 - j))[i] - list(range(N - j, -1, -1))[i]\n",
    "        B = list(range(0, N + 1 - j))[i] \n",
    "        C = list(range(N - j, -1, -1))[i]\n",
    "        if 10000 * A + 5000 * B + 1000 * C == Y:\n",
    "            print(str(A) + \" \" + str(B) + \" \" + str(C))\n",
    "            cnt += 1\n",
    "            break\n",
=======
    "for i in range(N+1):\n",
    "    for j in range(N+1):\n",
    "        for k in range(N+1):\n",
    "            if 10000 * i + 5000 * j + 1000 * k == Y and i + j + k <= 20:\n",
    "                print(str(i) + \" \" + str(j) + \" \" + str(k))\n",
    "                cnt += 1\n",
    "                break\n",
    "        else:\n",
    "            continue\n",
    "        break\n",
>>>>>>> origin/windows
    "    else:\n",
    "        continue\n",
    "    break\n",
    "if cnt == 0:\n",
    "    print(str(-1) + \" \" + str(-1) + \" \" + str(-1))"
   ]
  },
  {
   "cell_type": "code",
<<<<<<< HEAD
   "execution_count": 1,
   "metadata": {},
   "outputs": [
    {
     "name": "stdout",
     "output_type": "stream",
     "text": [
      "4 45000\n",
      "-1 -1 -1\n"
     ]
    }
   ],
   "source": [
    "n, y = map(int, input().split())\n",
    "for i in range(n + 1):\n",
    "    for j in range(n - i + 1):\n",
    "        if i * 10000 + j * 5000 + (n - i - j) * 1000 == y:\n",
    "            print(i, j, n - i - j)\n",
    "            exit()\n",
    "print(\"-1 -1 -1\")"
   ]
  },
  {
   "cell_type": "code",
   "execution_count": 13,
   "metadata": {},
   "outputs": [
    {
     "data": {
      "text/plain": [
       "[9, 8, 7, 6, 5, 4, 3, 2, 1, 0]"
      ]
     },
     "execution_count": 13,
     "metadata": {},
     "output_type": "execute_result"
    }
   ],
   "source": [
    "list(range(9, -1, -1))"
   ]
  },
  {
   "cell_type": "code",
=======
>>>>>>> origin/windows
   "execution_count": null,
   "metadata": {
    "collapsed": true
   },
   "outputs": [],
   "source": []
  }
 ],
 "metadata": {
  "kernelspec": {
   "display_name": "Python 3",
   "language": "python",
   "name": "python3"
  },
  "language_info": {
   "codemirror_mode": {
    "name": "ipython",
    "version": 3
   },
   "file_extension": ".py",
   "mimetype": "text/x-python",
   "name": "python",
   "nbconvert_exporter": "python",
   "pygments_lexer": "ipython3",
   "version": "3.6.3"
  }
 },
 "nbformat": 4,
 "nbformat_minor": 2
}
