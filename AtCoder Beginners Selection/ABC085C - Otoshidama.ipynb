{
 "cells": [
  {
   "cell_type": "code",
   "execution_count": 2,
   "metadata": {},
   "outputs": [
    {
     "name": "stdout",
     "output_type": "stream",
     "text": [
      "9 45000\n"
     ]
    }
   ],
   "source": [
    "N, Y = list(map(int, input().split()))"
   ]
  },
  {
   "cell_type": "code",
   "execution_count": null,
   "metadata": {},
   "outputs": [],
   "source": [
    "N, Y = list(map(int, input().split()))\n",
    "cnt = 0\n",
    "for i in range(N+1):\n",
    "    for j in range(N+1):\n",
    "        for k in range(N+1):\n",
    "            if 10000 * i + 5000 * j + 1000 * k == Y and i + j + k <= 20:\n",
    "                print(str(i) + \" \" + str(j) + \" \" + str(k))\n",
    "                cnt += 1\n",
    "                break\n",
    "        else:\n",
    "            continue\n",
    "        break\n",
    "    else:\n",
    "        continue\n",
    "    break\n",
    "if cnt == 0:\n",
    "    print(str(-1) + \" \" + str(-1) + \" \" + str(-1))"
   ]
  },
  {
   "cell_type": "code",
   "execution_count": null,
   "metadata": {
    "collapsed": true
   },
   "outputs": [],
   "source": []
  }
 ],
 "metadata": {
  "kernelspec": {
   "display_name": "Python 3",
   "language": "python",
   "name": "python3"
  },
  "language_info": {
   "codemirror_mode": {
    "name": "ipython",
    "version": 3
   },
   "file_extension": ".py",
   "mimetype": "text/x-python",
   "name": "python",
   "nbconvert_exporter": "python",
   "pygments_lexer": "ipython3",
   "version": "3.6.3"
  }
 },
 "nbformat": 4,
 "nbformat_minor": 2
}
