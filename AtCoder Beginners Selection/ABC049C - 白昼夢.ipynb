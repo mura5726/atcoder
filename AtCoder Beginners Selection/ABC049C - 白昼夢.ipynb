{
 "cells": [
  {
   "cell_type": "code",
   "execution_count": 3,
   "metadata": {},
   "outputs": [
    {
     "name": "stdout",
     "output_type": "stream",
     "text": [
      "erasedream\n"
     ]
    }
   ],
   "source": [
    "S = str(input())"
   ]
  },
  {
   "cell_type": "code",
   "execution_count": 4,
   "metadata": {},
   "outputs": [
    {
     "data": {
      "text/plain": [
       "'erasedream'"
      ]
     },
     "execution_count": 4,
     "metadata": {},
     "output_type": "execute_result"
    }
   ],
   "source": [
    "S"
   ]
  },
  {
   "cell_type": "code",
   "execution_count": 5,
   "metadata": {},
   "outputs": [],
   "source": [
    "word = ['dream', 'dreamer', 'erase', 'eraser'] "
   ]
  },
  {
   "cell_type": "code",
   "execution_count": 6,
   "metadata": {},
   "outputs": [
    {
     "data": {
      "text/plain": [
       "False"
      ]
     },
     "execution_count": 6,
     "metadata": {},
     "output_type": "execute_result"
    }
   ],
   "source": [
    "S in word[0]"
   ]
  },
  {
   "cell_type": "code",
   "execution_count": 7,
   "metadata": {},
   "outputs": [],
   "source": [
    "ex_word = []\n",
    "for i in range(len(word)):\n",
    "    if word[i] in S:\n",
    "        ex_word.append(word[i])"
   ]
  },
  {
   "cell_type": "code",
   "execution_count": 8,
   "metadata": {},
   "outputs": [
    {
     "data": {
      "text/plain": [
       "['dream', 'erase']"
      ]
     },
     "execution_count": 8,
     "metadata": {},
     "output_type": "execute_result"
    }
   ],
   "source": [
    "ex_word"
   ]
  },
  {
   "cell_type": "code",
   "execution_count": 9,
   "metadata": {},
   "outputs": [],
   "source": [
    "import itertools\n",
    "p_word = list(itertools.permutations(ex_word))"
   ]
  },
  {
   "cell_type": "code",
   "execution_count": 10,
   "metadata": {},
   "outputs": [
    {
     "name": "stdout",
     "output_type": "stream",
     "text": [
      "YES\n"
     ]
    },
    {
     "ename": "SystemExit",
     "evalue": "",
     "output_type": "error",
     "traceback": [
      "An exception has occurred, use %tb to see the full traceback.\n",
      "\u001b[0;31mSystemExit\u001b[0m\n"
     ]
    },
    {
     "name": "stderr",
     "output_type": "stream",
     "text": [
      "/Users/kmurase/anaconda3/lib/python3.6/site-packages/IPython/core/interactiveshell.py:2870: UserWarning: To exit: use 'exit', 'quit', or Ctrl-D.\n",
      "  warn(\"To exit: use 'exit', 'quit', or Ctrl-D.\", stacklevel=1)\n"
     ]
    }
   ],
   "source": [
    "import sys\n",
    "if ''.join(p_word[1]) == S:\n",
    "    print('YES')\n",
    "    sys.exit()\n",
    "print('No')\n"
   ]
  },
  {
   "cell_type": "code",
   "execution_count": 13,
   "metadata": {},
   "outputs": [
    {
     "name": "stdout",
     "output_type": "stream",
     "text": [
      "dreameraser\n",
      "YES\n"
     ]
    },
    {
     "ename": "SystemExit",
     "evalue": "",
     "output_type": "error",
     "traceback": [
      "An exception has occurred, use %tb to see the full traceback.\n",
      "\u001b[0;31mSystemExit\u001b[0m\n"
     ]
    },
    {
     "name": "stderr",
     "output_type": "stream",
     "text": [
      "/Users/kmurase/anaconda3/lib/python3.6/site-packages/IPython/core/interactiveshell.py:2870: UserWarning: To exit: use 'exit', 'quit', or Ctrl-D.\n",
      "  warn(\"To exit: use 'exit', 'quit', or Ctrl-D.\", stacklevel=1)\n"
     ]
    }
   ],
   "source": [
    "import itertools\n",
    "import sys\n",
    "\n",
    "S = str(input())\n",
    "word = ['dream', 'dreamer', 'erase', 'eraser'] \n",
    "\n",
    "ex_word = []\n",
    "for i in range(len(word)):\n",
    "    if word[i] in S:\n",
    "        ex_word.append(word[i])\n",
    "\n",
    "for j in range(4, -1, -1):\n",
    "    for i in range(len(list(itertools.permutations(ex_word, j)))):\n",
    "        if ''.join(list(itertools.permutations(ex_word, j))[i]) == S:\n",
    "            print('YES')\n",
    "            sys.exit()\n",
    "print('No')"
   ]
  },
  {
   "cell_type": "code",
   "execution_count": 12,
   "metadata": {},
   "outputs": [
    {
     "data": {
      "text/plain": [
       "[('dream', 'dreamer', 'erase', 'eraser'),\n",
       " ('dream', 'dreamer', 'eraser', 'erase'),\n",
       " ('dream', 'erase', 'dreamer', 'eraser'),\n",
       " ('dream', 'erase', 'eraser', 'dreamer'),\n",
       " ('dream', 'eraser', 'dreamer', 'erase'),\n",
       " ('dream', 'eraser', 'erase', 'dreamer'),\n",
       " ('dreamer', 'dream', 'erase', 'eraser'),\n",
       " ('dreamer', 'dream', 'eraser', 'erase'),\n",
       " ('dreamer', 'erase', 'dream', 'eraser'),\n",
       " ('dreamer', 'erase', 'eraser', 'dream'),\n",
       " ('dreamer', 'eraser', 'dream', 'erase'),\n",
       " ('dreamer', 'eraser', 'erase', 'dream'),\n",
       " ('erase', 'dream', 'dreamer', 'eraser'),\n",
       " ('erase', 'dream', 'eraser', 'dreamer'),\n",
       " ('erase', 'dreamer', 'dream', 'eraser'),\n",
       " ('erase', 'dreamer', 'eraser', 'dream'),\n",
       " ('erase', 'eraser', 'dream', 'dreamer'),\n",
       " ('erase', 'eraser', 'dreamer', 'dream'),\n",
       " ('eraser', 'dream', 'dreamer', 'erase'),\n",
       " ('eraser', 'dream', 'erase', 'dreamer'),\n",
       " ('eraser', 'dreamer', 'dream', 'erase'),\n",
       " ('eraser', 'dreamer', 'erase', 'dream'),\n",
       " ('eraser', 'erase', 'dream', 'dreamer'),\n",
       " ('eraser', 'erase', 'dreamer', 'dream')]"
      ]
     },
     "execution_count": 12,
     "metadata": {},
     "output_type": "execute_result"
    }
   ],
   "source": [
    "p_word"
   ]
  },
  {
   "cell_type": "code",
   "execution_count": null,
   "metadata": {
    "collapsed": true
   },
   "outputs": [],
   "source": []
  }
 ],
 "metadata": {
  "kernelspec": {
   "display_name": "Python 3",
   "language": "python",
   "name": "python3"
  },
  "language_info": {
   "codemirror_mode": {
    "name": "ipython",
    "version": 3
   },
   "file_extension": ".py",
   "mimetype": "text/x-python",
   "name": "python",
   "nbconvert_exporter": "python",
   "pygments_lexer": "ipython3",
   "version": "3.6.3"
  }
 },
 "nbformat": 4,
 "nbformat_minor": 2
}
