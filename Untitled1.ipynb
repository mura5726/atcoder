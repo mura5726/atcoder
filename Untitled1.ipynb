{
 "cells": [
  {
   "cell_type": "code",
   "execution_count": 8,
   "metadata": {},
   "outputs": [
    {
     "name": "stdout",
     "output_type": "stream",
     "text": [
      "105\n",
      "1\n"
     ]
    }
   ],
   "source": [
    "import math\n",
    "\n",
    "N = int(input())\n",
    "\n",
    "def make_prime_list(num):\n",
    "    if num < 2:\n",
    "        return []\n",
    "\n",
    "    prime_list = [i for i in range(num + 1)]\n",
    "    prime_list[1] = 0 \n",
    "    num_sqrt = math.sqrt(num)\n",
    "\n",
    "    for prime in prime_list:\n",
    "        if prime == 0:\n",
    "            continue\n",
    "        if prime > num_sqrt:\n",
    "            break\n",
    "\n",
    "        for non_prime in range(2 * prime, num, prime):\n",
    "            prime_list[non_prime] = 0\n",
    "\n",
    "    return [prime for prime in prime_list if prime != 0]\n",
    "\n",
    "def search_divisor_num(num):\n",
    "    if num < 0:\n",
    "        return None\n",
    "    elif num == 1:\n",
    "        return 1\n",
    "    else:\n",
    "        num_sqrt = math.floor(math.sqrt(num))\n",
    "        prime_list = make_prime_list(num_sqrt)\n",
    "\n",
    "        divisor_num = 1\n",
    "        for prime in prime_list:\n",
    "            count = 1\n",
    "            while num % prime == 0:\n",
    "                num //= prime\n",
    "                count += 1\n",
    "            divisor_num *= count\n",
    "\n",
    "        if num != 1:\n",
    "            divisor_num *= 2\n",
    "\n",
    "        return divisor_num\n",
    "\n",
    "\n",
    "print(int(list(map(search_divisor_num,list(range(1,N + 1))[:: 2])).count(8)))"
   ]
  },
  {
   "cell_type": "code",
   "execution_count": 7,
   "metadata": {},
   "outputs": [
    {
     "data": {
      "text/plain": [
       "1"
      ]
     },
     "execution_count": 7,
     "metadata": {},
     "output_type": "execute_result"
    }
   ],
   "source": [
    "int(a)"
   ]
  },
  {
   "cell_type": "code",
   "execution_count": null,
   "metadata": {
    "collapsed": true
   },
   "outputs": [],
   "source": []
  }
 ],
 "metadata": {
  "kernelspec": {
   "display_name": "Python 3",
   "language": "python",
   "name": "python3"
  },
  "language_info": {
   "codemirror_mode": {
    "name": "ipython",
    "version": 3
   },
   "file_extension": ".py",
   "mimetype": "text/x-python",
   "name": "python",
   "nbconvert_exporter": "python",
   "pygments_lexer": "ipython3",
   "version": "3.6.3"
  }
 },
 "nbformat": 4,
 "nbformat_minor": 2
}
